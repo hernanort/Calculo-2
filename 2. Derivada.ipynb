{
 "cells": [
  {
   "cell_type": "markdown",
   "metadata": {},
   "source": [
    " <div style=\"background-color: #023324; \"><p><br></p>\n",
    "    <img src=\"https://www.uexternado.edu.co/wp-content/themes/externado_theme/images/logo-uec.svg\" alt=\"Universidad Externado\" width=\"150\" align=\"left\">\n",
    "         <h1  style=\"color: white;font-family:Lucida Sans Unicode, Lucida Grande, sans-serif\" align=\"center\"> Derivada     </h1> \n",
    "<p><br></p>\n",
    "</div>    \n",
    "\n",
    "\n",
    "<p><br></p>\n",
    "Al final del cuaderno anterior vimos que las razones de cambio instantáneas tienen importantes aplicaciones en el ámbito de la administración, en este cuaderno abordaremos la forma gelométrica de ésta razón de cambio (**pendiente de la recta tangente**) y estudiaremos las propiedades de la **derivada**.\n",
    "\n",
    "# Interpretación gráfica de la derivada\n",
    "Como vimos en las clases anteriores, la razon de cambio nos permite determinar la pendiente de la recta tangente de una función $f(x)$ en un punto $x_0$.\n",
    "\n",
    "\n"
   ]
  },
  {
   "cell_type": "code",
   "execution_count": 48,
   "metadata": {
    "scrolled": true
   },
   "outputs": [
    {
     "data": {
      "image/png": "[encoded data removed]",
      "text/plain": [
       "<Figure size 432x288 with 1 Axes>"
      ]
     },
     "metadata": {
      "needs_background": "light"
     },
     "output_type": "display_data"
    }
   ],
   "source": [
    "from sympy import *\n",
    "x=symbols('x')\n",
    "f=(x**2)\n",
    "df =diff(f)\n",
    "m=df.subs(x,1)\n",
    "rt=m*(x-1)+1\n",
    "G=plot(f,(x,-0.5,3),axis_center=(0,0),ylim=(0,3),line_color='g',show=false)\n",
    "G.extend(plot(rt,(x,-0.5,3),line_color='r',show=false))\n",
    "G.show()"
   ]
  },
  {
   "cell_type": "markdown",
   "metadata": {},
   "source": [
    "## Visualización de la razón de cambio instantánea\n",
    "\n",
    "A continuación vemos una pequeña animación de Geogebra que justifica el uso de la derivada, clickea sobre la imagen:\n",
    "\n",
    "\n",
    "[![imagengeogebra](https://github.com/MCG-Externado/MCG1/blob/master/imagenes/Derivada.png?raw=true)](https://www.geogebra.org/classic/rz7ajarm)"
   ]
  },
  {
   "cell_type": "markdown",
   "metadata": {
    "collapsed": true
   },
   "source": [
    "# Derivada\n",
    "como vimos anteriormente, la derivada de una función $f$ se define como la razón de cambio en el intervalo $[x,x+h]$ cuando $h$ tiende a cero, es decir\n",
    "$$f'(h)=\\lim_{x\\to0}\\frac{f(x+h)-f(x)}{h}$$\n",
    "\n",
    "## Reglas de derivación\n",
    "Con los ejemplos que se han desarrollado hasta el momento, es claro que el cálculo de las derivadas mediante la definición puede llegar a ser un poco egorroso y desgastante, para ahorrar un poco de esfuerzos las reglas de derivación son muy eficientes.\n",
    "\n",
    "| **$f(x)$**| **$f'(x)$** |\n",
    "|:---:|:---:|\n",
    "|$k$ | $0$|\n",
    "|$(u)^n$| $n(u)^{n-1}(u')$| \n",
    "|$e^u$| $e^u(u')$|\n",
    "|$ln(u)$ |$\\frac{1}{u}(u')$|\n",
    "|$f(x)\\pm g(x)$|$f'(x)\\pm g'(x)$|\n",
    "\n",
    "### Ejemplos:\n",
    "1. Halle la derivada de la función $f(x)=(2x-1)^3$.\n",
    "#### Solución:\n",
    "Claramente se pide hallar la derivada de algo del estilo $(u)^n$ junto con la regla de de la suma/resta, de modo que su derivada será\n",
    "\n",
    "$$f'(x)=3(2x+1)^{3-1}(2)=3(2x+1)^{2}(2).$$\n",
    "\n",
    "2. Halle la derivada de $y=e^{7x^2-10x}$.\n",
    "#### Solución:\n",
    "En este ejemplo deben emplearse la tercera regla de derivación que se puede observar en la tabla como también la regla de la suma/resta, por lo tanto\n",
    "$$y'=e^{7x^2-10x}\\left( 2\\left(7x^{2-1}\\right)-10\\right)=e^{7x^2-10x}\\left( 14x-10\\right).$$\n",
    "\n",
    "3. Calcule la derivada de $g(t)=ln(5t^4-3)$.\n",
    "#### Solución:\n",
    "Para desarrollar el ejercicio se deben utilizar la cuarta regla de la tabla y la de la suma/resta, por lo que\n",
    "$$g'(t)=\\frac{1}{5t^4-3}\\left(5\\left(4t^{4-1}\\right)\\right)=\\frac{20t^3}{5t^4-3}.$$\n"
   ]
  },
  {
   "cell_type": "markdown",
   "metadata": {},
   "source": [
    "## Derivadas en Python usando sympy\n",
    "\n",
    "Usando el paquete `sympy` usamos la función `diff()` para calcular la derivada de una función. \n",
    "\n",
    "***Sintáxis de la función diff:***\n",
    "\n",
    "```\n",
    "diff(función,variable)\n",
    "```\n",
    "\n",
    "En las siguientes líneas calculamos la derivada de las funciones de los ejemplos anteriores:"
   ]
  },
  {
   "cell_type": "code",
   "execution_count": 4,
   "metadata": {},
   "outputs": [
    {
     "data": {
      "text/latex": [
       "$\\displaystyle \\left(2 x - 1\\right)^{3}$"
      ],
      "text/plain": [
       "(2*x - 1)**3"
      ]
     },
     "execution_count": 4,
     "metadata": {},
     "output_type": "execute_result"
    }
   ],
   "source": [
    "x=symbols('x') #Recuerda definir el simbolo x para que la máquina reconozca que x es una variable.\n",
    "\n",
    "L1=(2*x-1)**3\n",
    "L1 #Veamos la función"
   ]
  },
  {
   "cell_type": "code",
   "execution_count": 5,
   "metadata": {},
   "outputs": [
    {
     "data": {
      "text/latex": [
       "$\\displaystyle 6 \\left(2 x - 1\\right)^{2}$"
      ],
      "text/plain": [
       "6*(2*x - 1)**2"
      ]
     },
     "execution_count": 5,
     "metadata": {},
     "output_type": "execute_result"
    }
   ],
   "source": [
    "diff(L1) #diff calcula la derivada"
   ]
  },
  {
   "cell_type": "code",
   "execution_count": 6,
   "metadata": {},
   "outputs": [
    {
     "data": {
      "text/latex": [
       "$\\displaystyle 24 x^{2} - 24 x + 6$"
      ],
      "text/plain": [
       "24*x**2 - 24*x + 6"
      ]
     },
     "execution_count": 6,
     "metadata": {},
     "output_type": "execute_result"
    }
   ],
   "source": [
    "expand(diff(L1)) #expand permite expandir la función"
   ]
  },
  {
   "cell_type": "code",
   "execution_count": 7,
   "metadata": {},
   "outputs": [
    {
     "data": {
      "text/latex": [
       "$\\displaystyle e^{7 x^{2} - 10 x}$"
      ],
      "text/plain": [
       "exp(7*x**2 - 10*x)"
      ]
     },
     "execution_count": 7,
     "metadata": {},
     "output_type": "execute_result"
    }
   ],
   "source": [
    "L2= E**(7*x**2-10*x)\n",
    "L2"
   ]
  },
  {
   "cell_type": "code",
   "execution_count": 8,
   "metadata": {},
   "outputs": [
    {
     "data": {
      "text/latex": [
       "$\\displaystyle \\left(14 x - 10\\right) e^{7 x^{2} - 10 x}$"
      ],
      "text/plain": [
       "(14*x - 10)*exp(7*x**2 - 10*x)"
      ]
     },
     "execution_count": 8,
     "metadata": {},
     "output_type": "execute_result"
    }
   ],
   "source": [
    "diff(L2)"
   ]
  },
  {
   "cell_type": "code",
   "execution_count": 9,
   "metadata": {},
   "outputs": [
    {
     "data": {
      "text/latex": [
       "$\\displaystyle 14 x e^{- 10 x} e^{7 x^{2}} - 10 e^{- 10 x} e^{7 x^{2}}$"
      ],
      "text/plain": [
       "14*x*exp(-10*x)*exp(7*x**2) - 10*exp(-10*x)*exp(7*x**2)"
      ]
     },
     "execution_count": 9,
     "metadata": {},
     "output_type": "execute_result"
    }
   ],
   "source": [
    "expand(diff(L2))"
   ]
  },
  {
   "cell_type": "markdown",
   "metadata": {},
   "source": [
    "\n",
    "## Regla del producto\n",
    "$$\\left(f(x)g(x)\\right)'=f'(x)g(x)+g'(x)f(x)$$\n",
    "Esta regla es muy importante ya que no siempre se tiene funciones que contengan un único factor,\n",
    "por ejemplo $$h(x)=(4x-5)^3e^x$$\n",
    "su derivada será\n",
    "$$h'(x)=3(4x-5)^2(4)e^x+e^x(1)(4x-5)^3$$"
   ]
  },
  {
   "cell_type": "markdown",
   "metadata": {},
   "source": [
    "En lo que sigue encontrará un algoritmo muy sencillo que calcula la derivada del producto y muestra el razonamiento a realizar.\n",
    "\n"
   ]
  },
  {
   "cell_type": "code",
   "execution_count": 10,
   "metadata": {},
   "outputs": [],
   "source": [
    "def derivaciondeproducto(f):\n",
    "    print(\"Identifique dos posibles factores de\") \n",
    "    pprint(f,use_unicode=False) \n",
    "    \n",
    "    f1=input(\"Ingrese el primer factor: \")\n",
    "    f1=sympify(f1)\n",
    "    f2=input(\"Ingrese el segundo factor: \")\n",
    "    f2=sympify(f2)\n",
    "    if simplify(f1*f2)==simplify(f):\n",
    "        print(\"Muy bien. El calculo de la derivada se hace de la siguiente manera:\")\n",
    "        pprint(diff(f1)*f2+diff(f2)*f1,use_unicode=False)\n",
    "        \n",
    "        print(\"Obtenemos:\")\n",
    "        pprint(simplify(diff(f1)*f2+diff(f2)*f1),use_unicode=False)\n",
    "        return simplify(diff(f))\n",
    "    else:\n",
    "        print(\"Revisa tus entradas, algo salio mal.\")\n",
    "        derivaciondeproducto(f)"
   ]
  },
  {
   "cell_type": "code",
   "execution_count": 12,
   "metadata": {
    "scrolled": true
   },
   "outputs": [
    {
     "name": "stdout",
     "output_type": "stream",
     "text": [
      "Identifique dos posibles factores de\n",
      "         3  x\n",
      "(4*x - 5) *e \n",
      "Ingrese el primer factor: (E**x)\n",
      "Ingrese el segundo factor: ((4*x-5)**3)\n",
      "Muy bien. El calculo de la derivada se hace de la siguiente manera:\n",
      "         3  x               2  x\n",
      "(4*x - 5) *e  + 12*(4*x - 5) *e \n",
      "Obtenemos:\n",
      "         2            x\n",
      "(4*x - 5) *(4*x + 7)*e \n"
     ]
    },
    {
     "data": {
      "text/latex": [
       "$\\displaystyle \\left(4 x - 5\\right)^{2} \\left(4 x + 7\\right) e^{x}$"
      ],
      "text/plain": [
       "(4*x - 5)**2*(4*x + 7)*exp(x)"
      ]
     },
     "execution_count": 12,
     "metadata": {},
     "output_type": "execute_result"
    }
   ],
   "source": [
    "f=(E**x)*((4*x-5)**3)\n",
    "derivaciondeproducto(f)"
   ]
  },
  {
   "cell_type": "markdown",
   "metadata": {},
   "source": [
    "## Regla del cociente\n",
    "$$\\left(\\frac{f(x)}{g(x)}\\right)'=\\frac{f'(x)g(x)-g'(x)f(x)}{\\left[g(x)\\right]^2}$$\n",
    "Ya que no siempre se tienen productos entre las funciones, es necesario entender como derivar una división, por ejemplo\n",
    "$$h(x)=\\frac{3x+1}{e^{2x+6}}$$\n",
    "su derivada será\n",
    "$$h'(x)=\\frac{(3+0)e^{2x+6}-e^{2x+6}(2)(3x+1)}{\\left[e^{2x+6}\\right]^2}=\\frac{3e^{2x+6}-e^{2x+6}(6x+2)}{\\left[e^{2x+6}\\right]^2}=\\frac{-6x+1}{e^{2x+6}}$$\n",
    "\n",
    "Igual que en el ejemplo anterior haremos un algoritmo simple que permita recosntruir el procedimiento que calcula la derivada de un cociente:"
   ]
  },
  {
   "cell_type": "code",
   "execution_count": 13,
   "metadata": {},
   "outputs": [],
   "source": [
    "def derivaciondecociente(f):\n",
    "    print(\"Identifique dos posibles factores de\") \n",
    "    pprint(f,use_unicode=False) \n",
    "    \n",
    "    f1=input(\"Ingrese el numerador: \")\n",
    "    f1=sympify(f1)\n",
    "    f2=input(\"Ingrese el denominador: \")\n",
    "    f2=sympify(f2)\n",
    "    if simplify(f1/f2)==simplify(f):\n",
    "        print(\"Muy bien. El calculo de la derivada se hace de la siguiente manera:\")\n",
    "        pprint((diff(f1)*f2-diff(f2)*f1)/(f2**2),use_unicode=False)\n",
    "        \n",
    "        print(\"Obtenemos:\")\n",
    "        pprint(simplify((diff(f1)*f2-diff(f2)*f1)/(f2**2)),use_unicode=False)\n",
    "        return simplify(diff(f))\n",
    "    else:\n",
    "        print(\"Revisa tus entradas, algo salio mal.\")\n",
    "        derivaciondecociente(f)"
   ]
  },
  {
   "cell_type": "code",
   "execution_count": 14,
   "metadata": {},
   "outputs": [
    {
     "name": "stdout",
     "output_type": "stream",
     "text": [
      "Identifique dos posibles factores de\n",
      "           -2*x - 6\n",
      "(3*x + 1)*e        \n",
      "Ingrese el numerador: (3*x+1)\n",
      "Ingrese el denominador: (E**(2*x+6))\n",
      "Muy bien. El calculo de la derivada se hace de la siguiente manera:\n",
      "/               2*x + 6      2*x + 6\\  -4*x - 12\n",
      "\\- 2*(3*x + 1)*e        + 3*e       /*e         \n",
      "Obtenemos:\n",
      "           -2*x - 6\n",
      "(1 - 6*x)*e        \n"
     ]
    },
    {
     "data": {
      "text/latex": [
       "$\\displaystyle \\left(1 - 6 x\\right) e^{- 2 x - 6}$"
      ],
      "text/plain": [
       "(1 - 6*x)*exp(-2*x - 6)"
      ]
     },
     "execution_count": 14,
     "metadata": {},
     "output_type": "execute_result"
    }
   ],
   "source": [
    "h=(3*x+1)/(E**(2*x+6))\n",
    "derivaciondecociente(h)"
   ]
  },
  {
   "cell_type": "markdown",
   "metadata": {},
   "source": [
    "## Ejercicio\n",
    "\n",
    "Ejecute las siguientes celdas y describa que se está haciendo cada una. Explique que hace la función `prod()` y `divi()`.\n"
   ]
  },
  {
   "cell_type": "code",
   "execution_count": null,
   "metadata": {},
   "outputs": [],
   "source": [
    "f=E**x"
   ]
  },
  {
   "cell_type": "code",
   "execution_count": null,
   "metadata": {},
   "outputs": [],
   "source": [
    "g=(4*x-5)**3"
   ]
  },
  {
   "cell_type": "code",
   "execution_count": null,
   "metadata": {},
   "outputs": [],
   "source": [
    "diff(g*f)"
   ]
  },
  {
   "cell_type": "code",
   "execution_count": null,
   "metadata": {},
   "outputs": [],
   "source": [
    "h=3*x+1"
   ]
  },
  {
   "cell_type": "code",
   "execution_count": null,
   "metadata": {},
   "outputs": [],
   "source": [
    "j=E**(2*x+6)"
   ]
  },
  {
   "cell_type": "code",
   "execution_count": null,
   "metadata": {},
   "outputs": [],
   "source": [
    "diff(h/j)"
   ]
  },
  {
   "cell_type": "code",
   "execution_count": null,
   "metadata": {},
   "outputs": [],
   "source": [
    "def prod(f,g):\n",
    "    return diff(f)*g+diff(g)*f"
   ]
  },
  {
   "cell_type": "code",
   "execution_count": null,
   "metadata": {},
   "outputs": [],
   "source": [
    "prod(f,g)"
   ]
  },
  {
   "cell_type": "code",
   "execution_count": null,
   "metadata": {},
   "outputs": [],
   "source": [
    "def divi(f,g):\n",
    "    return (diff(f)*g-diff(g)*f)/(g**2)"
   ]
  },
  {
   "cell_type": "code",
   "execution_count": null,
   "metadata": {},
   "outputs": [],
   "source": [
    "divi(h,j)"
   ]
  },
  {
   "cell_type": "markdown",
   "metadata": {},
   "source": [
    "## Ejercicios\n",
    "\n",
    "Calcule las derivadas de las siguientes funciones usando `derivaciondeproducto()` y `derivaciondecociente()`, NO SE ANGUSTIE si tiene dificultades al ingresar las funciones. Preguntele a su profesor.\n",
    "\n",
    "    \n",
    "1. $x^3e^x$\n",
    "\n",
    "2. $(x^2+2x+1)(x+\\frac{1}{x})$\n",
    "\n",
    "3. $\\cfrac{x^2+3x-1}{\\sqrt{x}+3}$\n",
    "\n",
    "4. $\\cfrac{1}{x^2+e^{12x-10}}$\n",
    "\n",
    "5. $\\sqrt[3]{x}\\ln x$ \n"
   ]
  },
  {
   "cell_type": "code",
   "execution_count": null,
   "metadata": {},
   "outputs": [],
   "source": []
  }
 ],
 "metadata": {
  "kernelspec": {
   "display_name": "Python 3",
   "language": "python",
   "name": "python3"
  },
  "language_info": {
   "codemirror_mode": {
    "name": "ipython",
    "version": 3
   },
   "file_extension": ".py",
   "mimetype": "text/x-python",
   "name": "python",
   "nbconvert_exporter": "python",
   "pygments_lexer": "ipython3",
   "version": "3.7.1"
  },
  "latex_envs": {
   "LaTeX_envs_menu_present": true,
   "autoclose": false,
   "autocomplete": true,
   "bibliofile": "biblio.bib",
   "cite_by": "apalike",
   "current_citInitial": 1,
   "eqLabelWithNumbers": true,
   "eqNumInitial": 1,
   "hotkeys": {
    "equation": "Ctrl-E",
    "itemize": "Ctrl-I"
   },
   "labels_anchors": false,
   "latex_user_defs": false,
   "report_style_numbering": false,
   "user_envs_cfg": false
  },
  "toc": {
   "base_numbering": 1,
   "nav_menu": {},
   "number_sections": true,
   "sideBar": true,
   "skip_h1_title": true,
   "title_cell": "Table of Contents",
   "title_sidebar": "Contents",
   "toc_cell": false,
   "toc_position": {
    "height": "calc(100% - 180px)",
    "left": "10px",
    "top": "150px",
    "width": "355.556px"
   },
   "toc_section_display": true,
   "toc_window_display": true
  }
 },
 "nbformat": 4,
 "nbformat_minor": 2
}
