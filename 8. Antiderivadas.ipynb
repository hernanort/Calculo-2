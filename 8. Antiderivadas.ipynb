{
 "cells": [
  {
   "cell_type": "markdown",
   "metadata": {
    "collapsed": true
   },
   "source": [
    " <div style=\"background-color: #023324; \"><p><br></p>\n",
    "    <img src=\"https://www.uexternado.edu.co/wp-content/themes/externado_theme/images/logo-uec.svg\" alt=\"Universidad Externado\" width=\"150\" align=\"left\">\n",
    "         <h1  style=\"color: white;font-family:Lucida Sans Unicode, Lucida Grande, sans-serif\" align=\"center\">Antiderivadas    </h1> \n",
    "<p><br></p>\n",
    "</div>    \n",
    "\n",
    "\n",
    "<p><br></p>\n",
    "En administración algunas veces se posee información sobre las cantidades marginales y se desea tener la información de las funciones de las cuales ellas provienen, de modo que se enfrenta uno a la tarea de \"revertir\" la derivada, proceso que aprenderemos a realizar en este cuaderno.\n",
    "\n",
    "\n",
    "## Ejemplo \n",
    "Supongamos que la función de ingreso marginal para un producto de cierta compañía viene dada por\n",
    "$$I'(x) = 100.000−2x$$\n",
    "en donde $x$ es el número de unidades producidas y vendidas. Si se sabe que el\n",
    "ingreso total cuando no se vende ninguna unidad del producto es igual a cero,\n",
    "determinar la función de ingreso total.\n",
    "\n",
    "### Solución\n",
    "De lo que hemos venido trabajando sabemos muy bien que el ingreso marginal es la derivada de la función de ingresos, por ello la notación como $I'$, de modo que la solución del problema se resume en encontrar una función $I$, que al ser derivada obtengamos la función $I'(x) = 100.000−2x$.\n",
    "\n",
    "¿Qué función $f(x)$ al ser derivada da como resultado $f'(x)=100.000$ ?\n",
    "\n",
    "La respuesta a ésta pregunta es muy sencilla ya que la función que serviría es $f(x)=100.000x$.\n",
    "\n",
    "¿Qué función $g(x)$ al ser derivada da como resultado $g'(x)=2x$ ?\n",
    "\n",
    "Del trabajo realizado anteriormente es muy fácil determinar que la función $g(x)=x^2$.\n",
    "\n",
    "Por lo tanto, por las propiedades de la derivada, la candidata a ser la función de ingresos de la empresa es: $I(x)=100.000x-x^2$. Falta ver que cumpla la condición $I(0)=0$, lo cual se tiene ya que $100.000(0)-0^2=0$. De modo que la función de ingresos es la escrita anteriormente.\n",
    "\n",
    "**Nota:** Fíjese que el procedimiento que intentó llevarse a cabo fue encontrar una función $f(x)$ a partir de su derivada $f'(x)$.\n",
    "_____\n",
    "**Definición**\n",
    "Dada una función $f(x)$ diremos que $F(x)$ es una *antiderivada* de $f$ si $$F'(x)=f(x).$$\n",
    "_____\n",
    "\n",
    "## Ejemplo:\n",
    "Determine una antiderivada de $f(x)=3x-1$\n",
    "### Solución\n",
    "Es muy sencillo verificar que si $F(x)=\\frac{3}{2}x^2-x+10$, $F$ es una antiderivada de $f$.\n",
    "\n",
    "## Ejemplo: \n",
    "Halle una antiderivada de $f(x)=\\frac{1}{x}$.\n",
    "### Solución\n",
    "Una función que podría servir como antiderivada de $f$ sería $F(x)= ln(x)-2$.\n",
    "\n",
    "## Ejercicio:\n",
    "1. Verifique que $F(x)=e^{x^2}+10$ es una antiderivada de $f(x)=2xe^{x^2}$\n",
    "2. Hallar otras dos antiderivadas de $f$\n",
    "\n",
    "Como se puede observar las antiderivadas no son únicas de modo que se hace necesario definir la **antiderivada más general** de una función $f$ como $$F(x)+c$$ siendo $F$ una antiderivada arbitraria de $f$.\n",
    "\n",
    "En el ejercicio anterior se puede escribir la antiderivada más general de la función $f(x)=2xe^{x^2}$ como $F(x)=e^{x^2}+c$.\n",
    "_____\n",
    "**Definición**\n",
    "El proceso que hemos visto de encontrar antiderivadas es más bien conocido como *integración*, y la antiredivada más general se conoce como la *integral indefinida* de $f$ y se nota:\n",
    "$$\\int f(x)dx=F(x)+c.$$\n",
    "_____\n",
    "Así como en las derivadas es posible escribir una tabla con las antiderivadas básicas \n",
    "\n",
    "$$\\int kdx=kx+c$$\n",
    "$$\\int x^n dx = \\frac{x^{n+1}}{n+1}+c; n\\neq-1 $$ \n",
    "$$\\int e^xdx=e^x+c$$\n",
    "$$\\int \\frac{1}{x}dx =ln|x|+c$$\n",
    "\n",
    "Y las integrales, al igual que las derivadas, respetan la multiplicación por una constante y la suma de funciones, es decir\n",
    "$$\\int cf(x) dx= c\\int f(x) dx$$\n",
    "$$\\int \\left( f(x)\\pm g(x)\\right)dx=\\int f(x) dx \\pm \\int g(x) dx$$\n",
    "\n",
    "**Nota:**\n",
    "No existe una fórmula para integrar productos ni tampoco para integrar cocientes de funciones.\n",
    "\n",
    "## Ejercicios\n",
    "Encuentre las intergrales indefinidas de las siguientes funciones:\n",
    "1. $\\displaystyle \\int 4dx$\n",
    "2. $\\displaystyle \\int \\sqrt{2}dt$\n",
    "3. $\\displaystyle \\int \\frac{1}{2}dy$\n",
    "4. $\\displaystyle \\int e^2 dx$\n",
    "5. $\\displaystyle \\int ln(5)dx$\n",
    "6. $\\displaystyle \\int x^2dx$\n",
    "7. $\\displaystyle \\int x^3dx$\n",
    "8. $\\displaystyle \\int x^7dx$\n",
    "9. $\\displaystyle \\int x^{11}dx$\n",
    "10. $\\displaystyle \\int x^{-4}dx$\n",
    "11. $\\displaystyle \\int \\sqrt{x}dx$\n",
    "12. $\\displaystyle \\int \\sqrt[4]{x}dx$\n",
    "13. $\\displaystyle \\int \\frac{1}{x^2}dx$\n",
    "14. $\\displaystyle \\int \\frac{1}{\\sqrt[5]{x^2}}dx$\n",
    "15. $\\displaystyle \\int \\left( x^2 +\\frac{1}{\\sqrt[3]{x}} \\right)dx$\n",
    "16. $\\displaystyle \\int \\left(4x^6 +\\frac{1}{x}-3\\right)dx$\n",
    "17. $\\displaystyle \\int\\left( 5x +\\frac{1}{x^5}-e^x\\right)dx$\n",
    "18. $\\displaystyle \\int\\left( x -\\frac{1}{5}-5e^x\\right)dx$\n",
    "19. $\\displaystyle \\int\\left( 5x^7 +\\frac{1}{ln(2)}-e^4\\right)dx$\n",
    "20. $\\displaystyle \\int\\left( 10x^3 +\\frac{1}{4x}-4e^x+30\\right)dx$\n"
   ]
  },
  {
   "cell_type": "markdown",
   "metadata": {},
   "source": [
    "Dentro de las grandes utilidades qe tiene el paquete *sympy*, tiene una muy importante a la hora de calcular integrales, la cual se utiliza de una manera muy sencilla.\n",
    "\n",
    "Una vez definidas las variables, se utiliza el comando **integrate(función,variable de integración)** y listo!"
   ]
  },
  {
   "cell_type": "code",
   "execution_count": 4,
   "metadata": {},
   "outputs": [],
   "source": [
    "from sympy import *\n",
    "init_printing(use_latex=True)  "
   ]
  },
  {
   "cell_type": "code",
   "execution_count": 2,
   "metadata": {},
   "outputs": [],
   "source": [
    "x=symbols(\"x\")"
   ]
  },
  {
   "cell_type": "markdown",
   "metadata": {},
   "source": [
    "Por ejemplo para calcular la integral del último ejercicio basta escribir:"
   ]
  },
  {
   "cell_type": "code",
   "execution_count": 5,
   "metadata": {},
   "outputs": [
    {
     "name": "stderr",
     "output_type": "stream",
     "text": [
      "/home/nbuser/anaconda3_501/lib/python3.6/site-packages/matplotlib/font_manager.py:229: UserWarning: Matplotlib is building the font cache using fc-list. This may take a moment.\n",
      "  'Matplotlib is building the font cache using fc-list. '\n"
     ]
    },
    {
     "data": {
      "image/png": "[encoded data removed]",
      "text/latex": [
       "$$\\frac{5 x^{4}}{2} + 10 x - 4 e^{x} + \\frac{\\log{\\left (x \\right )}}{4}$$"
      ],
      "text/plain": [
       "   4                       \n",
       "5⋅x              x   log(x)\n",
       "──── + 10⋅x - 4⋅ℯ  + ──────\n",
       " 2                     4   "
      ]
     },
     "execution_count": 5,
     "metadata": {},
     "output_type": "execute_result"
    }
   ],
   "source": [
    "integrate(10*x**3+1/(4*x)-4*E**x+10,x)"
   ]
  },
  {
   "cell_type": "markdown",
   "metadata": {},
   "source": [
    "Vamos ahora a realizar integrales un poco más difíciles y las compararemos con el resultado que arroja la máquina"
   ]
  },
  {
   "cell_type": "markdown",
   "metadata": {},
   "source": [
    "## Ejemplo\n",
    "Calcule la siguiente integral\n",
    "$$\\int\\left(\\frac{x^2-3x-1}{x}\\right)dx$$\n",
    "\n",
    "### Solución\n",
    "Lo primero que debemos realizar es separar la fracción como la suma de tres fraccionarios homogéneos\n",
    "$$\\int\\left(\\frac{x^2-3x-1}{x}\\right)dx=\\int\\left(\\frac{x^2}{x}-\\frac{3x}{x}-\\frac{1}{x}\\right)dx$$\n",
    "Ahora simplificamos obteniendo así que\n",
    "$$\\int\\left(\\frac{x^2}{x}-\\frac{3x}{x}-\\frac{1}{x}\\right)dx=\\int\\left(x-3-\\frac{1}{x}\\right)dx=\\int xdx-3\\int dx-\\int \\frac{1}{x}dx=\\frac{x^2}{2}-3x-ln|x|+c$$"
   ]
  },
  {
   "cell_type": "code",
   "execution_count": 6,
   "metadata": {},
   "outputs": [
    {
     "data": {
      "image/png": "[encoded data removed]",
      "text/latex": [
       "$$\\frac{x^{2}}{2} - 3 x - \\log{\\left (x \\right )}$$"
      ],
      "text/plain": [
       " 2               \n",
       "x                \n",
       "── - 3⋅x - log(x)\n",
       "2                "
      ]
     },
     "execution_count": 6,
     "metadata": {},
     "output_type": "execute_result"
    }
   ],
   "source": [
    "integrate((x**2-3*x-1)/(x),x)"
   ]
  },
  {
   "cell_type": "markdown",
   "metadata": {},
   "source": [
    "## Ejemplo\n",
    "Calcule\n",
    "$$\\int\\left(\\frac{x^3-5x+1}{\\sqrt[3]{x^2}}-e^2\\right)dx$$\n",
    "### Solución\n",
    "Como antes debemos separar las fracciones y simplificar para poder hacer la integral de cada una\n",
    "$$\\int\\left(\\frac{x^3-5x+1}{\\sqrt[3]{x^2}}-e^2\\right)dx=\\int\\left(\\frac{x^3}{\\sqrt[3]{x^2}}-\\frac{5x}{\\sqrt[3]{x^2}}+\\frac{1}{\\sqrt[3]{x^2}}-e^2\\right)dx=\\int \\left(x^{\\frac{7}{3}}-5x^{\\frac{1}{3}}+x^{-\\frac{2}{3}}-e^2\\right)dx=\\frac{3\\sqrt[3]{x^{10}}}{10}-\\frac{15\\sqrt[3]{x^4}}{4}+3\\sqrt[3]{x}+e^2x+c$$"
   ]
  },
  {
   "cell_type": "code",
   "execution_count": 7,
   "metadata": {},
   "outputs": [
    {
     "data": {
      "image/png": "[encoded data removed]",
      "text/latex": [
       "$$3.0 x^{0.333333333333333} - 3.75 x^{1.33333333333333} + 0.3 x^{3.33333333333333}$$"
      ],
      "text/plain": [
       "     0.333333333333333         1.33333333333333        3.33333333333333\n",
       "3.0⋅x                  - 3.75⋅x                 + 0.3⋅x                "
      ]
     },
     "execution_count": 7,
     "metadata": {},
     "output_type": "execute_result"
    }
   ],
   "source": [
    "integrate((x**3-5*x+1)/(x**(2/3)))"
   ]
  },
  {
   "cell_type": "markdown",
   "metadata": {},
   "source": [
    "## Ejemplo\n",
    "Halle\n",
    "$$\\int (2x^2-3)^2dx$$\n",
    "### Solución \n",
    "Debemos recordar que $(a+b)^2=a^2+2ab+b^2$, por lo tanto\n",
    "$$\\int (2x^2-3)^2dx=\\int (4x^4-12x^2+9)dx=\\frac{4x^5}{5}-4x^3+9x+c$$\n"
   ]
  },
  {
   "cell_type": "markdown",
   "metadata": {},
   "source": [
    "## Ejercicios:\n",
    "1. $\\displaystyle\\int\\left( \\frac{x^3+2x}{3x}\\right)dx$\n",
    "2. $\\displaystyle\\int\\left( \\frac{y^4-2y^2-1}{y^2}\\right)dy$\n",
    "3. $\\displaystyle\\int x\\left(x+1\\right)dx$\n",
    "4. $\\displaystyle\\int (x^2-3)\\left(x+1\\right)dx$\n",
    "5. $\\displaystyle\\int \\sqrt{x}\\left(x^2-x+4\\right)dx$ \n",
    "6. Dada la siguiente función de ingreso marginal\n",
    "$$I'(x)= -6x^2 - 40x + 4.000$$\n",
    "en donde $x$ es el número de unidades producidas. Determine la función de demanda, si sabe que cuando no vende unidades el ingreso es nulo.\n"
   ]
  }
 ],
 "metadata": {
  "kernelspec": {
   "display_name": "Python 3",
   "language": "python",
   "name": "python3"
  },
  "language_info": {
   "codemirror_mode": {
    "name": "ipython",
    "version": 3
   },
   "file_extension": ".py",
   "mimetype": "text/x-python",
   "name": "python",
   "nbconvert_exporter": "python",
   "pygments_lexer": "ipython3",
   "version": "3.7.8"
  },
  "latex_envs": {
   "LaTeX_envs_menu_present": true,
   "autoclose": false,
   "autocomplete": true,
   "bibliofile": "biblio.bib",
   "cite_by": "apalike",
   "current_citInitial": 1,
   "eqLabelWithNumbers": true,
   "eqNumInitial": 1,
   "hotkeys": {
    "equation": "Ctrl-E",
    "itemize": "Ctrl-I"
   },
   "labels_anchors": false,
   "latex_user_defs": false,
   "report_style_numbering": false,
   "user_envs_cfg": false
  },
  "toc": {
   "base_numbering": 1,
   "nav_menu": {},
   "number_sections": true,
   "sideBar": true,
   "skip_h1_title": true,
   "title_cell": "Table of Contents",
   "title_sidebar": "Contents",
   "toc_cell": false,
   "toc_position": {
    "height": "calc(100% - 180px)",
    "left": "10px",
    "top": "150px",
    "width": "355.556px"
   },
   "toc_section_display": true,
   "toc_window_display": false
  }
 },
 "nbformat": 4,
 "nbformat_minor": 2
}
