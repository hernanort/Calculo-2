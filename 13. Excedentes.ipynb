{
 "cells": [
  {
   "cell_type": "markdown",
   "metadata": {},
   "source": [
    " <div style=\"background-color: #023324; \"><p><br></p>\n",
    "    <img src=\"https://www.uexternado.edu.co/wp-content/themes/externado_theme/images/logo-uec.svg\" alt=\"Universidad Externado\" width=\"150\" align=\"left\">\n",
    "         <h1  style=\"color: white;font-family:Lucida Sans Unicode, Lucida Grande, sans-serif\" align=\"center\"> Aplicaciones de la integral a la administración     </h1> \n",
    "<p><br></p>\n",
    "</div>    \n",
    "\n",
    "\n",
    "<p><br></p>\n",
    "Las últimas aplicaciones que trabajaremos durante el curso, serán las siguientes\n"
   ]
  },
  {
   "cell_type": "code",
   "execution_count": 2,
   "metadata": {},
   "outputs": [],
   "source": [
    "from sympy import * \n",
    "from sympy.plotting import *\n",
    "init_printing()"
   ]
  },
  {
   "cell_type": "code",
   "execution_count": 3,
   "metadata": {},
   "outputs": [],
   "source": [
    "x=symbols(\"x\")\n",
    "y=symbols(\"y\")"
   ]
  },
  {
   "cell_type": "markdown",
   "metadata": {
    "collapsed": true
   },
   "source": [
    "# Excedentes del productor y del consumidor\n",
    "\n",
    "Si $p=f(x)$  es la curva de demanda de cierto artículo y su oferta es la curva $p= g(x)$, donde $x$ denota la cantidad del artículo que pueden venderse o\n",
    "suministrarse a un precio $p$ por unidad. \n",
    "\n",
    "Por lo general, la función de demanda $f(x)$ es\n",
    "una función decreciente, mientras que la función de la oferta $g(x)$ por lo regular es una\n",
    "función creciente. Al punto de corte entre ellas, $(x_0,p_0)$, se le conoce como punto de equilibrio.\n",
    "\n",
    "Que se tenga una parte de la oferta por debajo del precio de equilibrio indica que, hay productores dispuestos a vender a un precio más bajo al de equilibrio, estos productores se ven beneficiados si todos los productos se venden al precio $p_0$. La suma de todos estos beneficios puede verse como el área entre el $p=p_0$ y $p=g(x)$\n",
    "\n",
    "$$EP:=\\int_0^{x_0} [p_0-g(x)]dx$$\n",
    "\n",
    "Mientras que para los consumidores se puede hacer un análisis similar, ya que hay una porción por encima del precio de equilibrio, estos compradores están dispuestos a pagar un precio mayor a $p_0$. Por lo tanto la suma de todos estos beneficios se puede ver también como el área entre $p=f(x)$ y $p=p_0$.\n",
    "\n",
    "$$EC:=\\int_0^{x_0} [f(x)-p_0]dx$$\n",
    "\n",
    "Lo anterior se puede ver claramente en la siguiente gráfica\n",
    "https://www.geogebra.org/graphing/sqsuakee\n",
    "\n",
    "## Ejemplo:\n",
    "Suponga que las funciones de oferta y demanda de cierto artículo vienen dadas por:\n",
    "\\begin{align*}\n",
    "O:&\\  p= 4x+40 \\\\\n",
    "D:&\\  p= 100 - x^2 \n",
    "\\end{align*}\n",
    "\n",
    "Determine el excedente del productor y del consumidor.\n",
    "\n",
    "### Solución:\n",
    "\n",
    "Lo primero que se debe hallar es el punto de equilibrio del mercado\n"
   ]
  },
  {
   "cell_type": "code",
   "execution_count": 6,
   "metadata": {},
   "outputs": [
    {
     "data": {
      "image/png": "[encoded data removed]",
      "text/latex": [
       "$$4 x + 40$$"
      ],
      "text/plain": [
       "4⋅x + 40"
      ]
     },
     "execution_count": 6,
     "metadata": {},
     "output_type": "execute_result"
    }
   ],
   "source": [
    "oferta=4*x+40\n",
    "oferta"
   ]
  },
  {
   "cell_type": "code",
   "execution_count": 8,
   "metadata": {},
   "outputs": [
    {
     "data": {
      "image/png": "[encoded data removed]",
      "text/latex": [
       "$$- x^{2} + 100$$"
      ],
      "text/plain": [
       "   2      \n",
       "- x  + 100"
      ]
     },
     "execution_count": 8,
     "metadata": {},
     "output_type": "execute_result"
    }
   ],
   "source": [
    "demanda=100-x**2\n",
    "demanda"
   ]
  },
  {
   "cell_type": "code",
   "execution_count": 11,
   "metadata": {},
   "outputs": [
    {
     "data": {
      "image/png": "[encoded data removed]",
      "text/latex": [
       "$$x^{2} + 4 x - 60$$"
      ],
      "text/plain": [
       " 2           \n",
       "x  + 4⋅x - 60"
      ]
     },
     "execution_count": 11,
     "metadata": {},
     "output_type": "execute_result"
    }
   ],
   "source": [
    "ec=oferta-demanda\n",
    "ec"
   ]
  },
  {
   "cell_type": "code",
   "execution_count": 12,
   "metadata": {},
   "outputs": [
    {
     "data": {
      "image/png": "[encoded data removed]",
      "text/latex": [
       "$$\\left [ -10, \\quad 6\\right ]$$"
      ],
      "text/plain": [
       "[-10, 6]"
      ]
     },
     "execution_count": 12,
     "metadata": {},
     "output_type": "execute_result"
    }
   ],
   "source": [
    "solve(ec,x)"
   ]
  },
  {
   "cell_type": "markdown",
   "metadata": {},
   "source": [
    "La respuesta negativa se descarta por el contexto del problema, ya que no tiene sentido hablar de unidades negativas. Por lo tanto hemos encontrado la cantidad de equilibrio, la cual es $x=6$. Para determinar el precio de equilibrio se debe evaluar $x=6$ en cualquiera de las dos ecuaciones anteriores, por ejemplo"
   ]
  },
  {
   "cell_type": "code",
   "execution_count": 13,
   "metadata": {},
   "outputs": [
    {
     "data": {
      "image/png": "[encoded data removed]",
      "text/latex": [
       "$$64$$"
      ],
      "text/plain": [
       "64"
      ]
     },
     "execution_count": 13,
     "metadata": {},
     "output_type": "execute_result"
    }
   ],
   "source": [
    "demanda.subs(x,6)"
   ]
  },
  {
   "cell_type": "markdown",
   "metadata": {},
   "source": [
    "Así el punto de equilibrio es $(6,64).$ Ahora se deben hallar los excedentes:\n",
    "\n",
    "*Excedente del productor*\n",
    "$$\\int_0^6 [64-(4x+40)]dx$$\n",
    "integral que se puede calcular fácilmente con la ayuda de python\n"
   ]
  },
  {
   "cell_type": "code",
   "execution_count": 15,
   "metadata": {},
   "outputs": [
    {
     "data": {
      "image/png": "[encoded data removed]",
      "text/latex": [
       "$$- 2 x^{2} + 24 x$$"
      ],
      "text/plain": [
       "     2       \n",
       "- 2⋅x  + 24⋅x"
      ]
     },
     "execution_count": 15,
     "metadata": {},
     "output_type": "execute_result"
    }
   ],
   "source": [
    "Ep=integrate(64-oferta)\n",
    "Ep"
   ]
  },
  {
   "cell_type": "code",
   "execution_count": 16,
   "metadata": {},
   "outputs": [
    {
     "data": {
      "image/png": "[encoded data removed]",
      "text/latex": [
       "$$72$$"
      ],
      "text/plain": [
       "72"
      ]
     },
     "execution_count": 16,
     "metadata": {},
     "output_type": "execute_result"
    }
   ],
   "source": [
    "Excedentedelproductor=Ep.subs(x,6)-Ep.subs(x,0)\n",
    "Excedentedelproductor"
   ]
  },
  {
   "cell_type": "markdown",
   "metadata": {},
   "source": [
    "*Excedente del consumidor*\n",
    "$$\\int_0^6 [(100-x^2)-64]dx$$\n",
    "Hacemos un procedimiento análogo al anterior, obteniendo que:"
   ]
  },
  {
   "cell_type": "code",
   "execution_count": 17,
   "metadata": {},
   "outputs": [
    {
     "data": {
      "image/png": "[encoded data removed]",
      "text/latex": [
       "$$- \\frac{x^{3}}{3} + 36 x$$"
      ],
      "text/plain": [
       "   3       \n",
       "  x        \n",
       "- ── + 36⋅x\n",
       "  3        "
      ]
     },
     "execution_count": 17,
     "metadata": {},
     "output_type": "execute_result"
    }
   ],
   "source": [
    "Ec=integrate(demanda-64)\n",
    "Ec"
   ]
  },
  {
   "cell_type": "code",
   "execution_count": 18,
   "metadata": {},
   "outputs": [
    {
     "data": {
      "image/png": "[encoded data removed]",
      "text/latex": [
       "$$144$$"
      ],
      "text/plain": [
       "144"
      ]
     },
     "execution_count": 18,
     "metadata": {},
     "output_type": "execute_result"
    }
   ],
   "source": [
    "Excedentedelconsumidor=Ec.subs(x,6)-Ec.subs(x,0)\n",
    "Excedentedelconsumidor"
   ]
  },
  {
   "cell_type": "code",
   "execution_count": 33,
   "metadata": {},
   "outputs": [
    {
     "data": {
      "image/png": "[encoded data removed]",
      "text/plain": [
       "<Figure size 432x288 with 1 Axes>"
      ]
     },
     "metadata": {
      "needs_background": "light"
     },
     "output_type": "display_data"
    }
   ],
   "source": [
    "p1=plot_implicit(Eq(x,6),(x, 0, 10), (y, 0, 100),line_color = 'b',show=False)\n",
    "p2=plot(64, (x, 0, 10), (y, 0, 100),line_color = 'b',show=False)\n",
    "p3=plot(4*x+40,(x, 0, 10), (y, 0, 100),line_color = 'r' ,show=False)\n",
    "p4=plot(100-x**2,(x, 0, 10), (y, 0, 100),line_color = 'g' ,show=False)\n",
    "p1.append(p2[0])\n",
    "p1.append(p3[0])\n",
    "p1.append(p4[0])\n",
    "p1.show()"
   ]
  },
  {
   "cell_type": "markdown",
   "metadata": {},
   "source": [
    "## Ejercicios\n",
    "\n",
    "1. Halle los excedentes del productor y del consumidor si\n",
    "\\begin{align*}\n",
    "D:&\\  p= 15-2x \\\\\n",
    "O:&\\  p= 3+x\n",
    "\\end{align*}\n",
    "2. Halle los excedentes del productor y del consumidor si\n",
    "\\begin{align*}\n",
    "D:&\\  p= 120-x^2 \\\\\n",
    "O:&\\  p= 32+3x \n",
    "\\end{align*}\n",
    "3.  Halle los excedentes del productor y del consumidor si\n",
    "\\begin{align*}\n",
    "O:&\\  p= 3.8+0.2x \\\\\n",
    "D:&\\  p= \\frac{370}{x+6}\n",
    "\\end{align*}\n",
    "4. Halle los excedentes del productor y del consumidor si\n",
    "\\begin{align*}\n",
    "O:&\\  p= 20+2.5x \\\\\n",
    "D:&\\  p= \\frac{280}{x+2}\n",
    "\\end{align*}"
   ]
  },
  {
   "cell_type": "code",
   "execution_count": null,
   "metadata": {},
   "outputs": [],
   "source": []
  }
 ],
 "metadata": {
  "kernelspec": {
   "display_name": "Python 3",
   "language": "python",
   "name": "python3"
  },
  "language_info": {
   "codemirror_mode": {
    "name": "ipython",
    "version": 3
   },
   "file_extension": ".py",
   "mimetype": "text/x-python",
   "name": "python",
   "nbconvert_exporter": "python",
   "pygments_lexer": "ipython3",
   "version": "3.7.1"
  },
  "latex_envs": {
   "LaTeX_envs_menu_present": true,
   "autoclose": false,
   "autocomplete": true,
   "bibliofile": "biblio.bib",
   "cite_by": "apalike",
   "current_citInitial": 1,
   "eqLabelWithNumbers": true,
   "eqNumInitial": 1,
   "hotkeys": {
    "equation": "Ctrl-E",
    "itemize": "Ctrl-I"
   },
   "labels_anchors": false,
   "latex_user_defs": false,
   "report_style_numbering": false,
   "user_envs_cfg": false
  },
  "toc": {
   "base_numbering": 1,
   "nav_menu": {},
   "number_sections": true,
   "sideBar": true,
   "skip_h1_title": true,
   "title_cell": "Table of Contents",
   "title_sidebar": "Contents",
   "toc_cell": false,
   "toc_position": {
    "height": "calc(100% - 180px)",
    "left": "10px",
    "top": "150px",
    "width": "355.556px"
   },
   "toc_section_display": true,
   "toc_window_display": true
  }
 },
 "nbformat": 4,
 "nbformat_minor": 2
}
