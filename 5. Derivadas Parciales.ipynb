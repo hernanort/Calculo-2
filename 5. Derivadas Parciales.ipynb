{
 "cells": [
  {
   "cell_type": "markdown",
   "metadata": {},
   "source": [
    " <div style=\"background-color: #023324; \"><p><br></p>\n",
    "    <img src=\"https://www.uexternado.edu.co/wp-content/themes/externado_theme/images/logo-uec.svg\" alt=\"Universidad Externado\" width=\"150\" align=\"left\">\n",
    "         <h1  style=\"color: white;font-family:Lucida Sans Unicode, Lucida Grande, sans-serif\" align=\"center\"> Derivadas parciales     </h1> \n",
    "<p><br></p>\n",
    "</div>    \n",
    "\n",
    "\n",
    "<p><br></p>\n",
    "\n",
    "Las derivadas de funciones en varias variables son muy importantes ya que permiten, al igual que en una variable, hallar valores extremos de funciones, es por eso que dejar claras estas reglas es algo muy importante.\n",
    "\n",
    "## ¿Qué haremos?\n",
    "\n",
    "En esta sección se generaliza el concepto de derivada de una función de una variable a funciones de varias variables. La idea principal es pensar en las funciones de varias variables como si fueran de una sola variable independiente y aplicar todas las técnicas conocidas sobre derivadas. A continuación precisamos esta idea.\n",
    "\n",
    "Consideremos una función de dos variables $f(x,y)$. Supongamos que $y$ se reemplaza por una constante, $y = y_0$, entonces la función $f$ se convierte a una sola variable, $g(x) = f(x, y_0)$. A ésta función $g$ le podemos calcular la derivada con respecto a $x$. En ese orden de ideas podemos definir la **derivada parcial de $f$ con respecto a $x$**, como  \n",
    "\n",
    "$$\t\\frac{\\partial f}{\\partial x}(x,y) = g'(x) \t$$\n",
    "\n",
    "Analogamente, si $x$ se reemplaza por una constante, $x = x_0$, entonces la función $f$ se convierte a una sola variable, $g(y) = f(x_0, y)$. A ésta función $g$ le podemos calcular la derivada con respecto a $y$. Definimos la **derivada parcial de $f$ con respecto a $y$**, como  \n",
    "\n",
    "$$\t\\frac{\\partial f}{\\partial y}(x,y) = g'(y) $$\n",
    "\n",
    "\n",
    "## Cálculo de derivadas parciales\n",
    "\n",
    "\n",
    "Para calcular la derivada parcial de $f(x,y)$ con respecto a $x$, supongamos que la variable $y$ actúa como una constante y hallamos la derivada como en una función de una variable, donde la variable independiente es $x$. Similarmente, para calcular la derivada parcial de $f(x,y)$ con respecto a la variable $y$, procedemos de la misma forma suponiendo en este caso que la variable $x$ es una constante.\n",
    "\n",
    "### Ejemplo\n",
    "\n",
    "Encuentre las derivadas parciales de la función \n",
    "\n",
    "$$ f(x,y) = 4x^2y^3 $$\n",
    "#### Solución:\n",
    "Observemos que la función sólo tiene un término. Si queremos encontrar la derivada parcial con respecto a $x$, entonces $y$ es una constante y por lo tanto $4y^3$ también es una constante. Recuerde que la derivada de una constante por una función es la constante por la derivada de la función, por lo tanto \n",
    "\n",
    "$$ \\frac{\\partial f}{\\partial x} = 4y^3(2x) = 8y^3x $$\n",
    "\n",
    "Ahora, para encontrar la derivada parcial con respecto a $y$, suponemos que $x$ es una constante y por lo tanto $4x^2$ es constante. Luego,   \n",
    "\n",
    "$$ \\frac{\\partial f}{\\partial y} = 4x^2(3y^2) = 12x^2y^2  $$\n",
    "\n",
    "### Ejemplos\n",
    "\n",
    "1. Calcule las derivadas parciales de primer orden de la función \n",
    "\n",
    "$$ f(x,y) = 2x^3 + 5y^4 $$\n",
    "#### Solución:\t\t\t\t\n",
    "Para hallar la derivada parcial con respecto a $x$, suponemos que $y$ es constante y por lo tanto $5y^4$ también es constante.\n",
    "\n",
    "En este caso la función tiene dos términos, luego la regla de la suma para derivadas nos permite encontrar la derivada término a término. También se utiliza el hecho de que la derivada de una constante es cero, por lo tanto\n",
    "\n",
    "$$ \\frac{\\partial f}{\\partial x} = 6x^2 + 0 = 6x^2  $$\n",
    "\n",
    "Para hallar la derivada parcial con respecto a $y$, suponemos que $x$ es constante y por lo tanto $2x^3$ es constante. Procediendo como antes, se tiene\n",
    "\n",
    "$$ \\frac{\\partial f}{\\partial y} = 0 + 20y^3 = 20y^3  $$\t\t\t\t\n",
    "\n",
    "2. Calcule las primeras derivadas parciales de la función \n",
    "\n",
    "$$ f(x,y) = \\left(3x^2y + 2xy^3 \\right )^5 $$\n",
    "#### Solución:\n",
    "En este caso debemos utilizar la regla de la cadena para derivadas. En efecto, la derivada parcial con respecto a $x$, esta dada por: \n",
    "\n",
    "$$ \\frac{\\partial f}{\\partial x} = 5 \\left(3x^2y + 2xy^3 \\right)^4 \\left( 6xy + 2y^3 \\right), $$\n",
    "\n",
    "y la derivada parcial con respecto a $y$ es:\n",
    "\n",
    "$$ \\frac{\\partial f}{\\partial y} = 5 \\left(3x^2y + 2xy^3 \\right)^4 \\left( 3x^2 + 6xy^2 \\right). $$\n",
    "\n",
    "3. Calcule las primeras derivadas parciales de la función\n",
    "\n",
    "#### Solución:\n",
    "$$f(x,y,z)=xyz-6y^3z^2+4x^2z.$$\n",
    "\n",
    "Para hallar la derivada parcial de la función respecto a la variable $x$, debemos recordar que las otras variables permanecen constantes, y aplicamos la regla del producto en cada sumando\n",
    "\n",
    "$$ \\frac{\\partial f}{\\partial x} = 1(yz)-0+4(2x)z=yz+8xz .$$\n",
    "La derivada respecto a $y$ se realiza igual que la anterior\n",
    "$$ \\frac{\\partial f}{\\partial y} = x(1)z-6(3y^2)z^2+0=xz-18y^2z^2 .$$\n",
    "La derivada respecto a $z$, por la forma de la función, no cambia respecto a las anteriores.\n",
    "$$ \\frac{\\partial f}{\\partial z} = xy(1)-6y^3(2z)+4x^2(1)=xy-12y^3z+4x^2.$$\n",
    "### Ejemplos\n",
    "\n",
    "\n",
    "1. Encuentre $\\dfrac{\\partial f}{\\partial x}$ y $\\dfrac{\\partial f}{\\partial y}$ de la función \n",
    "\n",
    "$$ f(x,y) = \\frac{x^2 - y^2}{2x - 5y} $$\n",
    "#### Solución:\n",
    "En este caso debemos utilizar la regla del cociente para derivadas.\n",
    "\n",
    "La derivada parcial con respecto a $x$, esta dada por: \n",
    "\t\t\t\t\n",
    "$$ \\frac{\\partial f}{\\partial x} = \\frac{2x(2x - 5y) - (x^2 - y^2)2  }{(2x - 5y)^2}, $$\n",
    "\n",
    "y la derivada parcial con respecto a $y$ es:\n",
    "\n",
    "$$ \\frac{\\partial f}{\\partial y} = \\frac{(-2y)(2x - 5y) - (x^2 - y^2)(-5)  }{(2x - 5y)^2}. $$ \n",
    "\n",
    "2. Encuentre ${\\partial f}/{\\partial x}$ y ${\\partial f}/{\\partial y}$ de la función \n",
    "\n",
    "$$ f(x,y) = \\text{e}^{4x^2y^3 + 3y^2}.$$\n",
    "#### Solución:\n",
    "En este caso debemos recordar la derivada de una función exponencial y usar la regla de la cadena.  \n",
    "\t\t\t\t\n",
    "$$ \\frac{\\partial f}{\\partial x} = \\text{e}^{4x^2y^3 + 3y^2}(8xy^3), $$ \n",
    "\t\t\t\t\n",
    "$$ \\frac{\\partial f}{\\partial y} = \\text{e}^{4x^2y^3 + 3y^2}(12x^2y^2 + 6y). $$\n",
    "\n",
    "\n",
    "\n",
    "\n",
    "# Calculo de derivadas parciales con Python\n",
    "\n",
    "Ahora vamos a calcular derivadas parciales utilizando Python. Para esto necesitamos la instrucción **diff**.\n",
    "\n",
    "Si la función depende de las variables $x$ y $y$, entonces la derivada parcial con respecto a $x$ se calcula con **diff(funcion,x)** y la derivada parcial con respecto a $y$ es: **diff(funcion,y)**.\n",
    "\n",
    "A continuación se presentan ejemplos.\n",
    "\n",
    "## Ejemplo \n",
    "\n",
    "Calcule las derivadas parciales de la función \n",
    "\n",
    "$$ f(x,y) = \\left(3x^2y + 2xy^3 \\right )^5 $$\n",
    "\n",
    "### Solución\n"
   ]
  },
  {
   "cell_type": "code",
   "execution_count": 1,
   "metadata": {},
   "outputs": [
    {
     "name": "stdout",
     "output_type": "stream",
     "text": [
      "Requirement already satisfied: sympy in c:\\users\\admin\\anaconda3\\lib\\site-packages (1.3)\n"
     ]
    }
   ],
   "source": [
    "!pip install sympy"
   ]
  },
  {
   "cell_type": "code",
   "execution_count": 2,
   "metadata": {},
   "outputs": [],
   "source": [
    "from sympy import * \n",
    "init_printing()"
   ]
  },
  {
   "cell_type": "code",
   "execution_count": 3,
   "metadata": {},
   "outputs": [],
   "source": [
    "x = symbols(\"x\")\n",
    "y = symbols(\"y\")\n",
    "z = symbols(\"z\")"
   ]
  },
  {
   "cell_type": "code",
   "execution_count": 4,
   "metadata": {},
   "outputs": [
    {
     "data": {
      "image/png": "[encoded data removed]",
      "text/latex": [
       "$$\\left(3 x^{2} y + 2 x y^{3}\\right)^{5}$$"
      ],
      "text/plain": [
       "                 5\n",
       "⎛   2          3⎞ \n",
       "⎝3⋅x ⋅y + 2⋅x⋅y ⎠ "
      ]
     },
     "execution_count": 4,
     "metadata": {},
     "output_type": "execute_result"
    }
   ],
   "source": [
    "f = (3*x**2*y+2*x*y**3)**5\n",
    "f"
   ]
  },
  {
   "cell_type": "code",
   "execution_count": 5,
   "metadata": {},
   "outputs": [],
   "source": [
    "f_x = diff(f,x)"
   ]
  },
  {
   "cell_type": "code",
   "execution_count": 6,
   "metadata": {},
   "outputs": [
    {
     "name": "stdout",
     "output_type": "stream",
     "text": [
      "La derivada parcial de f con respecto a x es\n"
     ]
    },
    {
     "data": {
      "image/png": "[encoded data removed]",
      "text/latex": [
       "$$\\left(30 x y + 10 y^{3}\\right) \\left(3 x^{2} y + 2 x y^{3}\\right)^{4}$$"
      ],
      "text/plain": [
       "                                  4\n",
       "⎛             3⎞ ⎛   2          3⎞ \n",
       "⎝30⋅x⋅y + 10⋅y ⎠⋅⎝3⋅x ⋅y + 2⋅x⋅y ⎠ "
      ]
     },
     "execution_count": 6,
     "metadata": {},
     "output_type": "execute_result"
    }
   ],
   "source": [
    "print(\"La derivada parcial de f con respecto a x es\")\n",
    "f_x"
   ]
  },
  {
   "cell_type": "code",
   "execution_count": 7,
   "metadata": {},
   "outputs": [],
   "source": [
    "f_y = diff(f,y)"
   ]
  },
  {
   "cell_type": "code",
   "execution_count": 9,
   "metadata": {},
   "outputs": [
    {
     "name": "stdout",
     "output_type": "stream",
     "text": [
      "La derivada parcial de f con respecto a y es\n"
     ]
    },
    {
     "data": {
      "image/png": "[encoded data removed]",
      "text/latex": [
       "$$\\left(15 x^{2} + 30 x y^{2}\\right) \\left(3 x^{2} y + 2 x y^{3}\\right)^{4}$$"
      ],
      "text/plain": [
       "                                   4\n",
       "⎛    2         2⎞ ⎛   2          3⎞ \n",
       "⎝15⋅x  + 30⋅x⋅y ⎠⋅⎝3⋅x ⋅y + 2⋅x⋅y ⎠ "
      ]
     },
     "execution_count": 9,
     "metadata": {},
     "output_type": "execute_result"
    }
   ],
   "source": [
    "print(\"La derivada parcial de f con respecto a y es\")\n",
    "f_y"
   ]
  },
  {
   "cell_type": "markdown",
   "metadata": {},
   "source": [
    "# Derivadas de orden superior\n",
    "\n",
    "Sea $f(x_1,x_2,\\ldots,x_n)$ una función de $n$ variables. Observe que las derivadas parciales de $f$ de nuevo son funciones de $n$ variables independientes $x_1$, $x_2$ y $x_n$. Luego, podemos derivar parcialmente estas nuevas funciones, dando lugar a lo que se conoce como derivadas parciales de segundo orden. A su vez esas derivadas parciales de segundo orden son funciones de $n$ variales y se pueden derivar parcialmente otra vez. A estas derivadas y las que se puedan calcular en adelante son las conocidas como derivadas parciales de orden superior.\n",
    "\n",
    "## Notación para derivadas parciales de orden superior\n",
    "\n",
    "Las derivadas parciales de segundo orden, de una función de dos variables,  se denotan de la siguiente manera.\n",
    "\n",
    "\\begin{align*}\n",
    "\t\t\t\t\t\\frac{\\partial^2 f}{\\partial x^2} &= \\frac{\\partial }{\\partial x}\\left(   \\frac{\\partial f}{\\partial x}     \\right) \\\\\n",
    "\t\t\t\t\t\\frac{\\partial^2 f}{\\partial y \\partial x} &= \\frac{\\partial }{\\partial y}\\left(   \\frac{\\partial f}{\\partial x}     \\right) \\\\\n",
    "\t\t\t\t\t\\frac{\\partial^2 f}{\\partial x \\partial y} &= \\frac{\\partial }{\\partial x}\\left(   \\frac{\\partial f}{\\partial y}     \\right) \\\\\n",
    "\t\t\t\t\t\\frac{\\partial^2 f}{\\partial y^2} &= \\frac{\\partial }{\\partial y}\\left(   \\frac{\\partial f}{\\partial y}     \\right) \n",
    "\t\t\t\t\t\\end{align*}\n",
    "                    \n",
    "En el caso de las derivadas parciales de tercer orden, se tiene\n",
    "\\begin{align*}\n",
    "   \\frac{\\partial^3 f}{\\partial x^3} &= \\frac{\\partial }{\\partial x}\\left(   \\frac{\\partial^2 f}{\\partial x^2}     \\right) \\\\\n",
    "   \\frac{\\partial^3 f}{\\partial x \\partial y \\partial x} &= \\frac{\\partial }{\\partial x}\\left(   \\frac{\\partial^2 f}{\\partial y    \\partial x}     \\right) \\\\\n",
    "   \\frac{\\partial^3 f}{\\partial^2 y \\partial x} &= \\frac{\\partial }{\\partial y}\\left(   \\frac{\\partial^2 f}{\\partial y \\partial    x} \\right)  \n",
    "\\end{align*}\n",
    "\n",
    "Otra notación bastante utilizada es la siguiente\n",
    "\\begin{align*}\n",
    "\tf_y  &= \\frac{\\partial f}{\\partial y}  \\\\\n",
    "\tf_{xx} &= \\frac{\\partial^2 f}{\\partial x^2}  \\\\\n",
    "\tf_{yxx} &=\\frac{\\partial^3 f}{\\partial x^2 \\partial y }  \t\t  \n",
    "\\end{align*}\n",
    "\n",
    "## Ejemplo\n",
    "\n",
    "Calcular todas las derivadas parciales de segundo orden de la función \n",
    "\n",
    "$$ f(x,y) = 4x^3y^5 + 3x^2 + 2y^3 + 2  $$ \n",
    "### Solución:\n",
    "Primero encontramos las derivas de primer orden.\n",
    "\\begin{align*}\n",
    "\t\\frac{\\partial f}{\\partial x} = 12x^2y^5 + 6x, \\ \\ \\ \\\n",
    "\t\\frac{\\partial f}{\\partial y} = 20x^3y^4 + 6y^2.\n",
    "\\end{align*}\n",
    "\n",
    "Con estas funciones encontramos las derivadas de segundo orden.\n",
    "\n",
    "\\begin{align*}\n",
    "\t\\frac{\\partial^2 f}{\\partial x^2} &= 24xy^5 + 6, \\ \\ \\ \\\n",
    "\t\\frac{\\partial^2 f}{\\partial y\\partial x} = 60x^2y^4, \\\\\n",
    "\t\\frac{\\partial^2 f}{\\partial x\\partial y} &= 60x^2y^4, \\ \\ \\ \\\n",
    "\t\\frac{\\partial^2 f}{\\partial y^2} = 80x^3y^3 + 12y.\t\t\t\t \n",
    "\\end{align*}\n",
    "\n",
    "Observe que \n",
    "\n",
    "$$ \\frac{\\partial^2 f}{\\partial y\\partial x} = \\frac{\\partial^2 f}{\\partial x\\partial y}$$\n",
    "\n",
    "Este hecho ocurre en la mayoria de las funciones que aparecen en la práctica. Aclaramos este hecho en el siguiente teorema.\n",
    "_____\n",
    "### Teorema\n",
    "Sea :${\\displaystyle f\\colon A\\subseteq \\mathbb {R} ^{n}\\to \\mathbb {R} \\,}$, $A$ un conjunto abierto, tal que existen las segundas derivadas cruzadas y son continuas en $A$.\n",
    "\n",
    "Entonces para cualquier punto ${\\displaystyle (a_{1},a_{2},\\dots ,a_{n})\\in A,}$ se cumple que:\n",
    "\n",
    "$${\\displaystyle {\\frac {\\partial ^{2}f}{\\partial x_{i}\\,\\partial x_{j}}}(a_{1},\\dots ,a_{n})={\\frac {\\partial ^{2}f}{\\partial x_{j}\\,\\partial x_{i}}}(a_{1},\\dots ,a_{n}).}$$\n",
    "_____\n",
    "\n",
    "**Observación:** \tExisten funciones en donde las derivadas mixtas no son iguales en un punto. Analizar este tipo de funciones requiere más herramientas matemáticas que no se han considerado en estas notas. Sin embargo, para las aplicaciones que realizaremosmás adelante no es necesario estudiar tal tipo de funciones.\n",
    "\n",
    "## Derivadas de orden superior con Python\n",
    "\n",
    "Para calcular la derivada parcial de orden $n$ con respesto a una variable se utiliza la instrucción **diff(funcion, variable, n)**. A continuación se ilustra como se hace.\n",
    "\n",
    "\n",
    "## Ejemplo \n",
    "\n",
    "Dada la función $f(x,y,z) = 4x^3y^5z + 3x^2z^3 + 2xy^3 + 2$.\n",
    "\n",
    "1. Encuentre derivadas parciales de primer orden $\\cfrac{\\partial f}{\\partial x}$, $\\cfrac{\\partial f}{\\partial y}$ y $\\cfrac{\\partial f}{\\partial z}$.\n",
    "\n",
    "2. Halle las derivadas mixtas  $\\cfrac{\\partial^2 f}{\\partial x \\partial y}$, $\\cfrac{\\partial^2 f}{\\partial y \\partial x}$,$\\cfrac{\\partial^2 f}{\\partial x \\partial z}$, $\\cfrac{\\partial^2 f}{\\partial z \\partial x}$, $\\cfrac{\\partial^2 f}{\\partial y \\partial z}$, $\\cfrac{\\partial^2 f}{\\partial z \\partial y}$\n",
    "\n",
    "3. Encuentre $\\cfrac{\\partial^2 f}{\\partial x^2}$, $\\cfrac{\\partial^2 f}{\\partial y^2}$ y  $\\cfrac{\\partial^2 f}{\\partial z^2}$. \n",
    "\n",
    "### Solución:\n",
    "\n",
    "\n"
   ]
  },
  {
   "cell_type": "code",
   "execution_count": 4,
   "metadata": {},
   "outputs": [
    {
     "data": {
      "image/png": "[encoded data removed]",
      "text/latex": [
       "$$4 x^{3} y^{5} z + 3 x^{2} z^{3} + 2 x y^{3} + 2$$"
      ],
      "text/plain": [
       "   3  5        2  3        3    \n",
       "4⋅x ⋅y ⋅z + 3⋅x ⋅z  + 2⋅x⋅y  + 2"
      ]
     },
     "execution_count": 4,
     "metadata": {},
     "output_type": "execute_result"
    }
   ],
   "source": [
    "g = 4*x**3*y**5*z + 3*x**2*z**3 + 2*x*y**3 + 2\n",
    "g"
   ]
  },
  {
   "cell_type": "markdown",
   "metadata": {},
   "source": [
    "*Derivadas de primer orden*"
   ]
  },
  {
   "cell_type": "code",
   "execution_count": 5,
   "metadata": {},
   "outputs": [
    {
     "name": "stdout",
     "output_type": "stream",
     "text": [
      "derivada parcial de g con respecto a x\n"
     ]
    },
    {
     "data": {
      "image/png": "[encoded data removed]",
      "text/latex": [
       "$$12 x^{2} y^{5} z + 6 x z^{3} + 2 y^{3}$$"
      ],
      "text/plain": [
       "    2  5          3      3\n",
       "12⋅x ⋅y ⋅z + 6⋅x⋅z  + 2⋅y "
      ]
     },
     "execution_count": 5,
     "metadata": {},
     "output_type": "execute_result"
    }
   ],
   "source": [
    "gx = diff(g,x)\n",
    "print(\"derivada parcial de g con respecto a x\")\n",
    "gx"
   ]
  },
  {
   "cell_type": "code",
   "execution_count": 6,
   "metadata": {},
   "outputs": [
    {
     "name": "stdout",
     "output_type": "stream",
     "text": [
      "derivada parcial de g con respecto a y\n"
     ]
    },
    {
     "data": {
      "image/png": "[encoded data removed]",
      "text/latex": [
       "$$20 x^{3} y^{4} z + 6 x y^{2}$$"
      ],
      "text/plain": [
       "    3  4          2\n",
       "20⋅x ⋅y ⋅z + 6⋅x⋅y "
      ]
     },
     "execution_count": 6,
     "metadata": {},
     "output_type": "execute_result"
    }
   ],
   "source": [
    "gy = diff(g,y)\n",
    "print(\"derivada parcial de g con respecto a y\")\n",
    "gy"
   ]
  },
  {
   "cell_type": "code",
   "execution_count": 12,
   "metadata": {},
   "outputs": [
    {
     "name": "stdout",
     "output_type": "stream",
     "text": [
      "derivada parcial de g con respecto a z\n"
     ]
    },
    {
     "data": {
      "image/png": "[encoded data removed]",
      "text/latex": [
       "$$4 x^{3} y^{5} + 9 x^{2} z^{2}$$"
      ],
      "text/plain": [
       "   3  5      2  2\n",
       "4⋅x ⋅y  + 9⋅x ⋅z "
      ]
     },
     "execution_count": 12,
     "metadata": {},
     "output_type": "execute_result"
    }
   ],
   "source": [
    "gz = diff(g,z)\n",
    "print(\"derivada parcial de g con respecto a z\")\n",
    "gz"
   ]
  },
  {
   "cell_type": "markdown",
   "metadata": {},
   "source": [
    "*Derivadas mixtas*"
   ]
  },
  {
   "cell_type": "code",
   "execution_count": 13,
   "metadata": {},
   "outputs": [
    {
     "name": "stdout",
     "output_type": "stream",
     "text": [
      "La segunda derivada parcial, primero con respecto a x, luego con respecto a y es:\n"
     ]
    },
    {
     "data": {
      "image/png": "[encoded data removed]",
      "text/latex": [
       "$$60 x^{2} y^{4} z + 6 y^{2}$$"
      ],
      "text/plain": [
       "    2  4        2\n",
       "60⋅x ⋅y ⋅z + 6⋅y "
      ]
     },
     "execution_count": 13,
     "metadata": {},
     "output_type": "execute_result"
    }
   ],
   "source": [
    "gxy = diff(gx,y)\n",
    "print(\"La segunda derivada parcial, primero con respecto a x, luego con respecto a y es:\")\n",
    "gxy\n"
   ]
  },
  {
   "cell_type": "code",
   "execution_count": 14,
   "metadata": {},
   "outputs": [
    {
     "name": "stdout",
     "output_type": "stream",
     "text": [
      "La segunda derivada parcial primero con respecto a y, luego con respecto a x es:\n"
     ]
    },
    {
     "data": {
      "image/png": "[encoded data removed]",
      "text/latex": [
       "$$60 x^{2} y^{4} z + 6 y^{2}$$"
      ],
      "text/plain": [
       "    2  4        2\n",
       "60⋅x ⋅y ⋅z + 6⋅y "
      ]
     },
     "execution_count": 14,
     "metadata": {},
     "output_type": "execute_result"
    }
   ],
   "source": [
    "gyx = diff(gy,x)\n",
    "print(\"La segunda derivada parcial primero con respecto a y, luego con respecto a x es:\")\n",
    "gyx\n"
   ]
  },
  {
   "cell_type": "code",
   "execution_count": 15,
   "metadata": {},
   "outputs": [
    {
     "name": "stdout",
     "output_type": "stream",
     "text": [
      "La segunda derivada parcial, primero con respecto a x, luego con respecto a z es:\n"
     ]
    },
    {
     "data": {
      "image/png": "[encoded data removed]",
      "text/latex": [
       "$$12 x^{2} y^{5} + 18 x z^{2}$$"
      ],
      "text/plain": [
       "    2  5         2\n",
       "12⋅x ⋅y  + 18⋅x⋅z "
      ]
     },
     "execution_count": 15,
     "metadata": {},
     "output_type": "execute_result"
    }
   ],
   "source": [
    "gxz = diff(gx,z)\n",
    "print(\"La segunda derivada parcial, primero con respecto a x, luego con respecto a z es:\")\n",
    "gxz"
   ]
  },
  {
   "cell_type": "code",
   "execution_count": 16,
   "metadata": {},
   "outputs": [
    {
     "name": "stdout",
     "output_type": "stream",
     "text": [
      "La segunda derivada parcial, primero con respecto a z, luego con respecto a x es:\n"
     ]
    },
    {
     "data": {
      "image/png": "[encoded data removed]",
      "text/latex": [
       "$$12 x^{2} y^{5} + 18 x z^{2}$$"
      ],
      "text/plain": [
       "    2  5         2\n",
       "12⋅x ⋅y  + 18⋅x⋅z "
      ]
     },
     "execution_count": 16,
     "metadata": {},
     "output_type": "execute_result"
    }
   ],
   "source": [
    "gzx = diff(gz,x)\n",
    "print(\"La segunda derivada parcial, primero con respecto a z, luego con respecto a x es:\")\n",
    "gzx"
   ]
  },
  {
   "cell_type": "code",
   "execution_count": 17,
   "metadata": {},
   "outputs": [
    {
     "name": "stdout",
     "output_type": "stream",
     "text": [
      "La segunda derivada parcial, primero con respecto a y, luego con respecto a z es:\n"
     ]
    },
    {
     "data": {
      "image/png": "[encoded data removed]",
      "text/latex": [
       "$$20 x^{3} y^{4}$$"
      ],
      "text/plain": [
       "    3  4\n",
       "20⋅x ⋅y "
      ]
     },
     "execution_count": 17,
     "metadata": {},
     "output_type": "execute_result"
    }
   ],
   "source": [
    "gyz = diff(gy,z)\n",
    "print(\"La segunda derivada parcial, primero con respecto a y, luego con respecto a z es:\")\n",
    "gyz"
   ]
  },
  {
   "cell_type": "code",
   "execution_count": 19,
   "metadata": {},
   "outputs": [
    {
     "name": "stdout",
     "output_type": "stream",
     "text": [
      "La segunda derivada parcial, primero con respecto a z, luego con respecto a y es:\n"
     ]
    },
    {
     "data": {
      "image/png": "[encoded data removed]",
      "text/latex": [
       "$$20 x^{3} y^{4}$$"
      ],
      "text/plain": [
       "    3  4\n",
       "20⋅x ⋅y "
      ]
     },
     "execution_count": 19,
     "metadata": {},
     "output_type": "execute_result"
    }
   ],
   "source": [
    "gzy = diff(gz,y)\n",
    "print(\"La segunda derivada parcial, primero con respecto a z, luego con respecto a y es:\")\n",
    "gzy"
   ]
  },
  {
   "cell_type": "markdown",
   "metadata": {},
   "source": [
    "*Derivadas de segundo orden de la misma variable*"
   ]
  },
  {
   "cell_type": "code",
   "execution_count": 20,
   "metadata": {},
   "outputs": [
    {
     "name": "stdout",
     "output_type": "stream",
     "text": [
      "La segunda derivada parcial con respecto a x es:\n"
     ]
    },
    {
     "data": {
      "image/png": "[encoded data removed]",
      "text/latex": [
       "$$6 z \\left(4 x y^{5} + z^{2}\\right)$$"
      ],
      "text/plain": [
       "    ⎛     5    2⎞\n",
       "6⋅z⋅⎝4⋅x⋅y  + z ⎠"
      ]
     },
     "execution_count": 20,
     "metadata": {},
     "output_type": "execute_result"
    }
   ],
   "source": [
    "gxx = diff(g,x,2)\n",
    "print(\"La segunda derivada parcial con respecto a x es:\")\n",
    "gxx"
   ]
  },
  {
   "cell_type": "code",
   "execution_count": 21,
   "metadata": {},
   "outputs": [
    {
     "name": "stdout",
     "output_type": "stream",
     "text": [
      "La segunda derivada parcial con respecto a y es:\n"
     ]
    },
    {
     "data": {
      "image/png": "[encoded data removed]",
      "text/latex": [
       "$$4 x y \\left(20 x^{2} y^{2} z + 3\\right)$$"
      ],
      "text/plain": [
       "      ⎛    2  2      ⎞\n",
       "4⋅x⋅y⋅⎝20⋅x ⋅y ⋅z + 3⎠"
      ]
     },
     "execution_count": 21,
     "metadata": {},
     "output_type": "execute_result"
    }
   ],
   "source": [
    "gyy = diff(g,y,2)\n",
    "print(\"La segunda derivada parcial con respecto a y es:\")\n",
    "gyy"
   ]
  },
  {
   "cell_type": "code",
   "execution_count": 22,
   "metadata": {},
   "outputs": [
    {
     "name": "stdout",
     "output_type": "stream",
     "text": [
      "La segunda derivada parcial con respecto a z es:\n"
     ]
    },
    {
     "data": {
      "image/png": "[encoded data removed]",
      "text/latex": [
       "$$18 x^{2} z$$"
      ],
      "text/plain": [
       "    2  \n",
       "18⋅x ⋅z"
      ]
     },
     "execution_count": 22,
     "metadata": {},
     "output_type": "execute_result"
    }
   ],
   "source": [
    "gzz = diff(g,z,2)\n",
    "print(\"La segunda derivada parcial con respecto a z es:\")\n",
    "gzz"
   ]
  },
  {
   "cell_type": "code",
   "execution_count": null,
   "metadata": {},
   "outputs": [],
   "source": []
  }
 ],
 "metadata": {
  "kernelspec": {
   "display_name": "Python 3",
   "language": "python",
   "name": "python3"
  },
  "language_info": {
   "codemirror_mode": {
    "name": "ipython",
    "version": 3
   },
   "file_extension": ".py",
   "mimetype": "text/x-python",
   "name": "python",
   "nbconvert_exporter": "python",
   "pygments_lexer": "ipython3",
   "version": "3.7.6"
  },
  "latex_envs": {
   "LaTeX_envs_menu_present": true,
   "autoclose": false,
   "autocomplete": true,
   "bibliofile": "biblio.bib",
   "cite_by": "apalike",
   "current_citInitial": 1,
   "eqLabelWithNumbers": true,
   "eqNumInitial": 1,
   "hotkeys": {
    "equation": "Ctrl-E",
    "itemize": "Ctrl-I"
   },
   "labels_anchors": false,
   "latex_user_defs": false,
   "report_style_numbering": false,
   "user_envs_cfg": false
  },
  "toc": {
   "base_numbering": 1,
   "nav_menu": {},
   "number_sections": true,
   "sideBar": true,
   "skip_h1_title": true,
   "title_cell": "Table of Contents",
   "title_sidebar": "Contents",
   "toc_cell": false,
   "toc_position": {},
   "toc_section_display": true,
   "toc_window_display": false
  }
 },
 "nbformat": 4,
 "nbformat_minor": 2
}
