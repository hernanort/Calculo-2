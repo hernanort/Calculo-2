{
 "cells": [
  {
   "cell_type": "markdown",
   "metadata": {},
   "source": [
    " <div style=\"background-color: #023324; \"><p><br></p>\n",
    "    <img src=\"https://www.uexternado.edu.co/wp-content/themes/externado_theme/images/logo-uec.svg\" alt=\"Universidad Externado\" width=\"150\" align=\"left\">\n",
    "         <h1  style=\"color: white;font-family:Lucida Sans Unicode, Lucida Grande, sans-serif\" align=\"center\"> Optimización     </h1> \n",
    "<p><br></p>\n",
    "</div>    \n",
    "\n",
    "\n",
    "<p><br></p>\n",
    "La interpretación geométrica de la derivada da pie para estudiar los cambios de crecimiento que tiene una función, gracias a esto es posible hallar los puntos en los cuales la función alcanza sus valores extremos, y en éste cuaderno aprenderemos la manera de realizarlo.\n",
    "\n",
    "# ¿Para dónde vamos?\n",
    "El objetivo de éste cuaderno es que se realice una pequeña función en la cual se introduzca únicamente la función a optimizar y se realice el proceso en el cual se hallen los puntos críticos y se defina el tipo de éstos (máximos o mínimos).\n",
    "\n",
    "## Preparación\n",
    " ```\n",
    " 1. Instalar el paquete sympy.\n",
    " 2. Importar el paquete sympy.\n",
    " 3. Definir la variable.\n",
    " ```\n",
    "\n",
    "## Algoritmo \n",
    " ```\n",
    " 1. Definir la función que se desea optimizar.\n",
    " 2. Hallar la derivada de la función.\n",
    " 3. Halle los puntos críticos de la función.\n",
    " 4. Calcule la segunda derivad de la función.\n",
    " 5. Evalúe los puntos críticos en la segunda derivada.\n",
    " 6. Determine la naturaleza del punto crítico\n",
    " ```"
   ]
  },
  {
   "cell_type": "markdown",
   "metadata": {},
   "source": [
    "Siguiendo los pasos mencionados anteriormente:"
   ]
  },
  {
   "cell_type": "code",
   "execution_count": 1,
   "metadata": {},
   "outputs": [
    {
     "name": "stdout",
     "output_type": "stream",
     "text": [
      "Requirement already satisfied: sympy in /home/nbuser/anaconda3_501/lib/python3.6/site-packages (1.3)\n",
      "\u001b[33mWARNING: You are using pip version 19.3.1; however, version 20.0.2 is available.\n",
      "You should consider upgrading via the 'pip install --upgrade pip' command.\u001b[0m\n"
     ]
    }
   ],
   "source": [
    "!pip install sympy"
   ]
  },
  {
   "cell_type": "code",
   "execution_count": 2,
   "metadata": {},
   "outputs": [],
   "source": [
    "from sympy import * \n",
    "init_printing() #Con este comando se habilita una mejor opción de visualización de los resultados obtenidos"
   ]
  },
  {
   "cell_type": "code",
   "execution_count": 3,
   "metadata": {},
   "outputs": [],
   "source": [
    "x=symbols(\"x\") #Definimos la variable"
   ]
  },
  {
   "cell_type": "markdown",
   "metadata": {},
   "source": [
    "Para que el trabajo futuro sea mucho más sencillo aprenderemos a utilizar de mejor manera los ciclos, y para ello es fundamental la creación de listas de elementos.\n",
    "\n",
    "## Comando range\n",
    "Cuando se emplea el comando range(a,b) se crea una lista que desde a hasta b -1 avanzando de uno en uno. Si la lista que se desea crear no es de números enteros se le puede dar el tamaño del salto con una tercera entrada, es decir, range(a,b,salto).  **Todas las entradas deben ser números enteros**\n",
    "\n",
    "## Ejemplos"
   ]
  },
  {
   "cell_type": "code",
   "execution_count": 4,
   "metadata": {},
   "outputs": [],
   "source": [
    "lista1=range(1,5)"
   ]
  },
  {
   "cell_type": "code",
   "execution_count": 5,
   "metadata": {},
   "outputs": [],
   "source": [
    "lista2=range(1,20,2)"
   ]
  },
  {
   "cell_type": "markdown",
   "metadata": {},
   "source": [
    "## Tamaño de una lista\n",
    "Para determinar la cantidad de elementos que tiene una lista existe un comando, *len*.\n",
    "La forma de utilizarlo es la siguiente: **len(cadena)**\n",
    "\n",
    "### Ejemplos"
   ]
  },
  {
   "cell_type": "code",
   "execution_count": 6,
   "metadata": {},
   "outputs": [
    {
     "data": {
      "image/png": "[encoded data removed]",
      "text/latex": [
       "$$4$$"
      ],
      "text/plain": [
       "4"
      ]
     },
     "execution_count": 6,
     "metadata": {},
     "output_type": "execute_result"
    }
   ],
   "source": [
    "len(lista1)"
   ]
  },
  {
   "cell_type": "code",
   "execution_count": 7,
   "metadata": {},
   "outputs": [
    {
     "data": {
      "image/png": "[encoded data removed]",
      "text/latex": [
       "$$10$$"
      ],
      "text/plain": [
       "10"
      ]
     },
     "execution_count": 7,
     "metadata": {},
     "output_type": "execute_result"
    }
   ],
   "source": [
    "len(lista2)"
   ]
  },
  {
   "cell_type": "markdown",
   "metadata": {},
   "source": [
    "## Comando append\n",
    "Éste comando es muy  útil ya que permite agregar valores a una lista.\n",
    "\n",
    "## Ejemplo\n",
    "Dada la siguiente lista"
   ]
  },
  {
   "cell_type": "code",
   "execution_count": 8,
   "metadata": {},
   "outputs": [
    {
     "data": {
      "image/png": "[encoded data removed]",
      "text/latex": [
       "$$\\left [ 1, \\quad 5, \\quad 10, \\quad -8, \\quad 4\\right ]$$"
      ],
      "text/plain": [
       "[1, 5, 10, -8, 4]"
      ]
     },
     "execution_count": 8,
     "metadata": {},
     "output_type": "execute_result"
    }
   ],
   "source": [
    "l=[1,5,10,-8,4]\n",
    "l"
   ]
  },
  {
   "cell_type": "markdown",
   "metadata": {},
   "source": [
    "agregar el valor $0$ a la lista"
   ]
  },
  {
   "cell_type": "code",
   "execution_count": 9,
   "metadata": {},
   "outputs": [
    {
     "data": {
      "image/png": "[encoded data removed]",
      "text/latex": [
       "$$\\left [ 1, \\quad 5, \\quad 10, \\quad -8, \\quad 4, \\quad 0\\right ]$$"
      ],
      "text/plain": [
       "[1, 5, 10, -8, 4, 0]"
      ]
     },
     "execution_count": 9,
     "metadata": {},
     "output_type": "execute_result"
    }
   ],
   "source": [
    "l.append(0)\n",
    "l"
   ]
  },
  {
   "cell_type": "markdown",
   "metadata": {},
   "source": [
    "## Ciclos\n",
    "\n",
    "Vamos a crear ciclos en los cuales vamos a mostrar todos los elementos de las dos listas anteriores.\n",
    "\n",
    "Recordemos que la estructura del for es la siguiente:\n",
    "\n",
    "for contador in rango:\n",
    "    órdenes\n",
    "    \n",
    " \n",
    "## Ejemplos"
   ]
  },
  {
   "cell_type": "code",
   "execution_count": 10,
   "metadata": {},
   "outputs": [
    {
     "name": "stdout",
     "output_type": "stream",
     "text": [
      "En la posición  0 el valor es 1\n",
      "En la posición  1 el valor es 2\n",
      "En la posición  2 el valor es 3\n"
     ]
    }
   ],
   "source": [
    "for i in range(len(lista1)-1):\n",
    "    print(\"En la posición \", i ,\"el valor es\",lista1[i])"
   ]
  },
  {
   "cell_type": "code",
   "execution_count": 11,
   "metadata": {},
   "outputs": [
    {
     "name": "stdout",
     "output_type": "stream",
     "text": [
      "En la posición  0 el valor es 1\n",
      "En la posición  1 el valor es 3\n",
      "En la posición  2 el valor es 5\n",
      "En la posición  3 el valor es 7\n",
      "En la posición  4 el valor es 9\n",
      "En la posición  5 el valor es 11\n",
      "En la posición  6 el valor es 13\n",
      "En la posición  7 el valor es 15\n",
      "En la posición  8 el valor es 17\n"
     ]
    }
   ],
   "source": [
    "for i in range(len(lista2)-1):\n",
    "    print(\"En la posición \", i ,\"el valor es\",lista2[i])"
   ]
  },
  {
   "cell_type": "markdown",
   "metadata": {},
   "source": [
    "## Funciones\n",
    "Las funciones resultan ser muy útiles cuando deseamos repetir procesos sobre valores distintos.\n",
    "\n",
    "La definición de las funciones lleva la siguiente estructura\n",
    "\n",
    "**def** nombre_de_la_función**(**variables,que,se,requieran**):**\n",
    "\n",
    "    órdenes\n",
    "\n",
    "**return [Expresión]**\n",
    "\n",
    "El nombre de la función debe ser sin espacios y se sugiere no usar nombres de funciones definidas previamente para evitar conflictos.\n",
    "\n",
    "Las variables deben ser separadas por comas.\n",
    "\n",
    "### Ejemplo:\n",
    "Definiremos una función que imprima los números pares menores al número introducido."
   ]
  },
  {
   "cell_type": "code",
   "execution_count": 12,
   "metadata": {},
   "outputs": [],
   "source": [
    "def pares(n):#nótese que hay una única variable ya que nuestro argumento será únicamente el número en el cual vamos a parar\n",
    "    if int(n)%2==0: #la función int(n) define a la variable n como un número entero.  La función % es el módulo (residuo de un número al ser dividido entre el otro)\n",
    "        for i in range(0,int(n/2)): #Range crea una lista de números enteros en este caso desde el 0 hasta la mitad de n\n",
    "            print(i*2)\n",
    "    else: #si no se cumple la condición\n",
    "        for i in range(0,int((n+1)/2)):\n",
    "            print(i*2)\n",
    "return "
   ]
  },
  {
   "cell_type": "code",
   "execution_count": 13,
   "metadata": {},
   "outputs": [
    {
     "name": "stdout",
     "output_type": "stream",
     "text": [
      "0\n",
      "2\n",
      "4\n"
     ]
    }
   ],
   "source": [
    "pares(5)"
   ]
  },
  {
   "cell_type": "code",
   "execution_count": 14,
   "metadata": {},
   "outputs": [
    {
     "name": "stdout",
     "output_type": "stream",
     "text": [
      "0\n",
      "2\n",
      "4\n"
     ]
    }
   ],
   "source": [
    "pares(6)"
   ]
  },
  {
   "cell_type": "markdown",
   "metadata": {},
   "source": [
    "### Ejemplo\n",
    "Definiremos una función que halle los ceros de una función arbitraria"
   ]
  },
  {
   "cell_type": "code",
   "execution_count": 15,
   "metadata": {},
   "outputs": [],
   "source": [
    "def ceros(func):\n",
    "    return solve(func)"
   ]
  },
  {
   "cell_type": "code",
   "execution_count": 16,
   "metadata": {},
   "outputs": [
    {
     "data": {
      "image/png": "[encoded data removed]",
      "text/latex": [
       "$$\\left [ -1, \\quad 0, \\quad 1\\right ]$$"
      ],
      "text/plain": [
       "[-1, 0, 1]"
      ]
     },
     "execution_count": 16,
     "metadata": {},
     "output_type": "execute_result"
    }
   ],
   "source": [
    "ceros(x**3-x)"
   ]
  },
  {
   "cell_type": "markdown",
   "metadata": {},
   "source": [
    "### Ejemplo\n",
    "Ahora definiremos una función $f$ que evalúe una función dada en una lista de valores ingresados en una lista $V$."
   ]
  },
  {
   "cell_type": "code",
   "execution_count": 17,
   "metadata": {},
   "outputs": [],
   "source": [
    "def derivadaenlista(f,V):\n",
    "    f1=diff(f) #Calcula la derivada de la función\n",
    "    print(\"La derivada de la función es \", f1) # Muestra la derivada de la función\n",
    "    R=[]\n",
    "    for i in range(len(V)):\n",
    "        R.append(f1.subs(x,V[i]))\n",
    "    return R"
   ]
  },
  {
   "cell_type": "code",
   "execution_count": 18,
   "metadata": {},
   "outputs": [],
   "source": [
    "v=[1,2,40,8,6]"
   ]
  },
  {
   "cell_type": "code",
   "execution_count": 19,
   "metadata": {},
   "outputs": [
    {
     "name": "stdout",
     "output_type": "stream",
     "text": [
      "La derivada de la función es  4*x**3 - 6*x\n"
     ]
    },
    {
     "data": {
      "image/png": "[encoded data removed]",
      "text/latex": [
       "$$\\left [ 0, \\quad -2, \\quad 20, \\quad 90\\right ]$$"
      ],
      "text/plain": [
       "[0, -2, 20, 90]"
      ]
     },
     "execution_count": 19,
     "metadata": {},
     "output_type": "execute_result"
    }
   ],
   "source": [
    "derivadaenlista(x**4-3*x**2,[0,1,2,3])"
   ]
  },
  {
   "cell_type": "markdown",
   "metadata": {},
   "source": [
    "### Comando solve\n",
    "El comando **solve** sirve para resolver ecuaciones las cuales deberán estar igualadas a cero, como por ejemplo\n",
    "$$x^2-4=0$$\n",
    "mediante el comando \n",
    "\n",
    "solve(x**2-4,x).\n",
    "\n",
    "Si se desea solicionar la ecuación\n",
    "$$x^3=x$$\n",
    "primero debe igualarse a cero y se introduce en el comando la parte que contiene las variables\n",
    "$$x^3-x=0$$\n",
    "introducimos\n",
    "\n",
    "solve(x**3-x,x)"
   ]
  },
  {
   "cell_type": "markdown",
   "metadata": {},
   "source": [
    "### Ejercicio\n",
    "Sigue los pasos para realizar el procedimiento descrito al inicio, se dará una función de prueba la cual después será cambiada por una arbitraria.\n",
    "\n",
    "1. Defina la función $$f(x)=x^3-x$$\n",
    "2. Defina la función *optimizar* mediante el uso de **def optimizar(f):**\n",
    "3. Halle la derivada de $f$ y muestre el resultado obtenido\n",
    "4. Encuentre los puntos críticos. Guarde la respuesta en un vector llamado *puntoscriticos*.\n",
    "5. Encuentre la segunda derivada de $f$ y muestre el resultado obtenido\n",
    "6. Haga uso de un for para evaluar la segunda derivada en todos los puntos críticos y así determine su naturaleza.\n",
    "\n",
    "(ayuda: for i in range(0,len(puntoscriticos)-1):) \n"
   ]
  },
  {
   "cell_type": "code",
   "execution_count": 17,
   "metadata": {},
   "outputs": [],
   "source": [
    "def optimizar(f):\n",
    "    df=diff(f,x)\n",
    "    print(\"La primera derivada es:\\n\",df)\n",
    "    puntoscriticos=solve(df,x)\n",
    "    l=len(puntoscriticos)\n",
    "    print(\"Los puntos críticos de la función son:\\n\",puntoscriticos)\n",
    "    ddf=diff(df,x)\n",
    "    print(\"La segunda derivada es:\\n\",ddf)\n",
    "    for i in range(0,len(puntoscriticos)):\n",
    "        if ddf.subs(x,puntoscriticos[i])<0:\n",
    "            print(\"En x=\",puntoscriticos[i],\"se alcanza un máximo y f(x)=\")\n",
    "    return plot(f,(x,puntoscriticos[0]-2,puntoscriticos[l-1]+2))"
   ]
  },
  {
   "cell_type": "code",
   "execution_count": 4,
   "metadata": {},
   "outputs": [],
   "source": [
    "y=symbols(\"y\")"
   ]
  },
  {
   "cell_type": "code",
   "execution_count": 6,
   "metadata": {},
   "outputs": [],
   "source": [
    "f=x**2*y**3-5+x+y"
   ]
  },
  {
   "cell_type": "code",
   "execution_count": 7,
   "metadata": {},
   "outputs": [
    {
     "data": {
      "image/png": "[encoded data removed]",
      "text/latex": [
       "$$2 x y^{3} + 1$$"
      ],
      "text/plain": [
       "     3    \n",
       "2⋅x⋅y  + 1"
      ]
     },
     "execution_count": 7,
     "metadata": {},
     "output_type": "execute_result"
    }
   ],
   "source": [
    "diff(f,x)"
   ]
  },
  {
   "cell_type": "code",
   "execution_count": 8,
   "metadata": {},
   "outputs": [
    {
     "data": {
      "image/png": "[encoded data removed]",
      "text/latex": [
       "$$3 x^{2} y^{2} + 1$$"
      ],
      "text/plain": [
       "   2  2    \n",
       "3⋅x ⋅y  + 1"
      ]
     },
     "execution_count": 8,
     "metadata": {},
     "output_type": "execute_result"
    }
   ],
   "source": [
    "diff(f,y)"
   ]
  },
  {
   "cell_type": "code",
   "execution_count": 20,
   "metadata": {},
   "outputs": [
    {
     "name": "stdout",
     "output_type": "stream",
     "text": [
      "La primera derivada es:\n",
      " 2*x*exp(-x) - (x**2 - 3)*exp(-x)\n",
      "Los puntos críticos de la función son:\n",
      " [-1, 3]\n",
      "La segunda derivada es:\n",
      " -4*x*exp(-x) - (-x**2 + 3)*exp(-x) + 2*exp(-x)\n",
      "En x= 3 se alcanza un máximo y f(x)=\n"
     ]
    },
    {
     "data": {
      "image/png": "[encoded data removed]",
      "text/plain": [
       "<Figure size 432x288 with 1 Axes>"
      ]
     },
     "metadata": {
      "needs_background": "light"
     },
     "output_type": "display_data"
    },
    {
     "data": {
      "text/plain": [
       "<sympy.plotting.plot.Plot at 0x7fb142e6edd8>"
      ]
     },
     "execution_count": 20,
     "metadata": {},
     "output_type": "execute_result"
    }
   ],
   "source": [
    "optimizar((x**2-3)*E**(-x))"
   ]
  },
  {
   "cell_type": "code",
   "execution_count": null,
   "metadata": {},
   "outputs": [],
   "source": []
  },
  {
   "cell_type": "code",
   "execution_count": null,
   "metadata": {},
   "outputs": [],
   "source": []
  }
 ],
 "metadata": {
  "kernelspec": {
   "display_name": "Python 3",
   "language": "python",
   "name": "python3"
  },
  "language_info": {
   "codemirror_mode": {
    "name": "ipython",
    "version": 3
   },
   "file_extension": ".py",
   "mimetype": "text/x-python",
   "name": "python",
   "nbconvert_exporter": "python",
   "pygments_lexer": "ipython3",
   "version": "3.7.1"
  },
  "latex_envs": {
   "LaTeX_envs_menu_present": true,
   "autoclose": false,
   "autocomplete": true,
   "bibliofile": "biblio.bib",
   "cite_by": "apalike",
   "current_citInitial": 1,
   "eqLabelWithNumbers": true,
   "eqNumInitial": 1,
   "hotkeys": {
    "equation": "Ctrl-E",
    "itemize": "Ctrl-I"
   },
   "labels_anchors": false,
   "latex_user_defs": false,
   "report_style_numbering": false,
   "user_envs_cfg": false
  },
  "toc": {
   "base_numbering": 1,
   "nav_menu": {},
   "number_sections": true,
   "sideBar": true,
   "skip_h1_title": true,
   "title_cell": "Table of Contents",
   "title_sidebar": "Contents",
   "toc_cell": false,
   "toc_position": {
    "height": "calc(100% - 180px)",
    "left": "10px",
    "top": "150px",
    "width": "355.556px"
   },
   "toc_section_display": true,
   "toc_window_display": true
  }
 },
 "nbformat": 4,
 "nbformat_minor": 2
}
