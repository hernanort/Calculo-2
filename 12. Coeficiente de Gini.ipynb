{
 "cells": [
  {
   "cell_type": "markdown",
   "metadata": {},
   "source": [
    " <div style=\"background-color: #023324; \"><p><br></p>\n",
    "    <img src=\"https://www.uexternado.edu.co/wp-content/themes/externado_theme/images/logo-uec.svg\" alt=\"Universidad Externado\" width=\"150\" align=\"left\">\n",
    "         <h1  style=\"color: white;font-family:Lucida Sans Unicode, Lucida Grande, sans-serif\" align=\"center\"> Aplicaciones de la integral a la administración     </h1> \n",
    "<p><br></p>\n",
    "</div>    \n",
    "\n",
    "\n",
    "<p><br></p>\n",
    "Luego de haber entendido los métodos de integración, como también la integral definida, podemos proceder a estudiar las aplicaciones de la integral en el campo de la administración.\n"
   ]
  },
  {
   "cell_type": "code",
   "execution_count": 1,
   "metadata": {},
   "outputs": [],
   "source": [
    "from sympy import *    # cargar paquetes para hacer calculos matemáticos\n",
    "init_printing(use_latex=True) "
   ]
  },
  {
   "cell_type": "markdown",
   "metadata": {},
   "source": [
    "# ¿Qué vamos a hacer?\n",
    "\n",
    "Ahora, vamos a utilizar el concepto de integral para desarrollar algunos temas que son de interés en Administración de Empresas.\n",
    "\n",
    "En esta sección se estudia **la distribución del ingreso total** de una población entre todos sus individuos. Esta distribución se calcula utilizando una función que relaciona el ingreso total de una población con el ingreso captado por los individuos de la población. Esta relación se conoce como *Curva de Lorenz*, y se explica a continuación.\n",
    "\n",
    "Sea $y$ la proporción del ingreso total de cierta población que se recibe por la proporción\n",
    "$x$ de captadores de ingresos cuyo ingreso es mínimo.\n",
    "\n",
    "Por ejemplo, suponga que cuando $x=0.5$, entonces $y=0.25$. Esto significaría que al 50% de la población que recibe\n",
    "el ingreso más bajo le corresponde el 25% del ingreso total. O si $y = 0.7$ cuando\n",
    "$x=0.9$, quiere decir entonces que el 90% de la población con los ingresos más bajos recibiría el 70%\n",
    "del ingreso total.\n",
    "\n",
    "En general, supongamos que  $y$ es una función de $x$ y que además  $0 \\le x \\le 1$,  $0 \\le y \\le 1$. Está función se conoce como **Curva de Lorenz** y tiene las siguientes características.\n",
    "\n",
    "1. La Curva de Lorenz relaciona el porcentaje acumulado de la población, con el porcentaje acumulado del ingreso que posee esa    población.\n",
    "2. Esta curva permite representar gráficamente la concentración del ingreso de una región en un período determinado.\n",
    "3. La curva mide distribución del ingreso.\n",
    "4. Con base en la curva de Lorenz es posible medir la concentración del ingreso por medio de un número conocido como el            coeficiente de Gini.\n",
    "5. En el análisis de la curva de Lorenz suponenos que los datos están ordenados\tdel menor ingreso al mayor ingreso.\n",
    "\n",
    "### Ejemplo\n",
    "\n",
    "En una ciudad la curva de Lorenz está dada por la función $F(x) = \\frac{14}{15}x^2 + \\frac{1}{15}x.$\n",
    "\n",
    "Suponga que $x = 0.4$ y $x = 0.6$. Utilice Python para evaluar estos valores, interpretar los resultados y gráficar la función.\n",
    "#### Solución:"
   ]
  },
  {
   "cell_type": "code",
   "execution_count": 2,
   "metadata": {},
   "outputs": [],
   "source": [
    "x=symbols(\"x\") #declaración de la variable"
   ]
  },
  {
   "cell_type": "code",
   "execution_count": 3,
   "metadata": {},
   "outputs": [
    {
     "data": {
      "image/png": "[encoded data removed]",
      "text/latex": [
       "$$0.933333333333333 x^{2} + 0.0666666666666667 x$$"
      ],
      "text/plain": [
       "                   2                       \n",
       "0.933333333333333⋅x  + 0.0666666666666667⋅x"
      ]
     },
     "execution_count": 3,
     "metadata": {},
     "output_type": "execute_result"
    }
   ],
   "source": [
    "f = 14/15*x**2 +1/15*x  #  curva de lorentz\n",
    "f"
   ]
  },
  {
   "cell_type": "code",
   "execution_count": 4,
   "metadata": {},
   "outputs": [
    {
     "data": {
      "image/png": "[encoded data removed]",
      "text/latex": [
       "$$0.176$$"
      ],
      "text/plain": [
       "0.176000000000000"
      ]
     },
     "execution_count": 4,
     "metadata": {},
     "output_type": "execute_result"
    }
   ],
   "source": [
    "f1=f.subs(x,0.4) # evaluación de la función cuando x=0.4\n",
    "f1"
   ]
  },
  {
   "cell_type": "code",
   "execution_count": 5,
   "metadata": {},
   "outputs": [
    {
     "data": {
      "image/png": "[encoded data removed]",
      "text/latex": [
       "$$0.376$$"
      ],
      "text/plain": [
       "0.376000000000000"
      ]
     },
     "execution_count": 5,
     "metadata": {},
     "output_type": "execute_result"
    }
   ],
   "source": [
    "f1=f.subs(x,0.6) # evaluación de la función cuando x=0.6\n",
    "f1"
   ]
  },
  {
   "cell_type": "markdown",
   "metadata": {},
   "source": [
    "**Interpretación:** podemos afirmar que el $40\\%$ de los habitantes con los ingresos más bajos, recibe el $17.6\\%$ del ingreso total de la ciudad, y el $60\\%$ de la población con los ingresos más bajos, recibe el $37.6\\%$  del ingreso total de la ciudad."
   ]
  },
  {
   "cell_type": "code",
   "execution_count": 35,
   "metadata": {},
   "outputs": [
    {
     "data": {
      "image/png": "[encoded data removed]",
      "text/plain": [
       "<Figure size 432x288 with 1 Axes>"
      ]
     },
     "metadata": {
      "needs_background": "light"
     },
     "output_type": "display_data"
    }
   ],
   "source": [
    "p=plot(f,(x,0,1))"
   ]
  },
  {
   "cell_type": "markdown",
   "metadata": {},
   "source": [
    "### Ejercicio\n",
    "\n",
    "1. En un país la curva de Lorenz está dada por la función $F(x) = \\frac{4}{17}x^2 + \\frac{13}{17}x.$\n",
    "\n",
    " Suponga que $x = 0.2$ y $x = 0.8$. Utilice Python para evaluar estos valores, interpretar los resultados y gráficar la función.\n"
   ]
  },
  {
   "cell_type": "markdown",
   "metadata": {},
   "source": [
    "## Coeficiente de Gini\n",
    "\n",
    "\n",
    "El **coeficiente de Gini** mide el grado de desigualdad con la que se distribuye el ingreso total de una cierta población.\n",
    "Para encontrar esta medida, se considera la equidad perfecta de la distribución del ingreso, la cual se presenta cuando $y = x$. Por lo tanto, La desviación de la distribución del ingreso real de la equidad se mide por el grado en que la curva de Lorentz se aparta de la recta $y = x$. En otras palabras, si $y = F(x)$ representa la curva de Lorentz, entonces el área comprendida entre la recta $y=x$ y la curva $y=F(x)$ mide este grado de desviación. \n",
    "\n",
    "Dicho lo anterior, definimos El coeficiente de Gini como \n",
    "\n",
    "$$  2\\int_0^1 \\left [ x - F(x) \\right ] \\, dx,  $$\n",
    "\n",
    "el cual señala como está distribuida la riqueza (ingreso total) en una población. Observe que entre más pequeño sea el coeficiente de Gini, más equitativa es la distribución del ingreso, mientras que, si el coeficiente se acerca a 1, significa que mayor será la desigualdad en la distribución del ingreso.\n",
    "\n",
    "### Ejemplo\n",
    "\n",
    "Suponga que en una población la curva de Lorentz esta dada por la función $F(x) = \\frac{14}{15}x^2 + \\frac{1}{15}x$.\n",
    "1. Grafique la curva de Lorentz y la recta $y=x$.\n",
    "2. Calcule el coeficiente de Gini e interprete el resultado.\n",
    "\n",
    "#### Solución:\n",
    "Para desarrollar los calculos vamos utilizar Python."
   ]
  },
  {
   "cell_type": "code",
   "execution_count": 36,
   "metadata": {},
   "outputs": [
    {
     "data": {
      "image/png": "[encoded data removed]",
      "text/latex": [
       "$\\displaystyle 0.933333333333333 x^{2} + 0.0666666666666667 x$"
      ],
      "text/plain": [
       "                   2                       \n",
       "0.933333333333333⋅x  + 0.0666666666666667⋅x"
      ]
     },
     "execution_count": 36,
     "metadata": {},
     "output_type": "execute_result"
    }
   ],
   "source": [
    "g = 14/15*x**2+1/15*x  # Curva de Lorentz dada por el ejemplo \n",
    "g"
   ]
  },
  {
   "cell_type": "code",
   "execution_count": 37,
   "metadata": {},
   "outputs": [
    {
     "data": {
      "image/png": "[encoded data removed]",
      "text/latex": [
       "$\\displaystyle - 0.622222222222222 x^{3} + 0.933333333333333 x^{2}$"
      ],
      "text/plain": [
       "                     3                      2\n",
       "- 0.622222222222222⋅x  + 0.933333333333333⋅x "
      ]
     },
     "execution_count": 37,
     "metadata": {},
     "output_type": "execute_result"
    }
   ],
   "source": [
    "i=2*integrate(x-g,x)  # Integral de la fórmula de Gini\n",
    "i"
   ]
  },
  {
   "cell_type": "code",
   "execution_count": 38,
   "metadata": {},
   "outputs": [
    {
     "data": {
      "image/png": "[encoded data removed]",
      "text/latex": [
       "$\\displaystyle 0.311111111111111$"
      ],
      "text/plain": [
       "0.311111111111111"
      ]
     },
     "execution_count": 38,
     "metadata": {},
     "output_type": "execute_result"
    }
   ],
   "source": [
    "coeficiente = i.subs(x,1)-i.subs(x,0)   # evaluando en la integral para hallar el coeficiente de Gini\n",
    "coeficiente"
   ]
  },
  {
   "cell_type": "code",
   "execution_count": 39,
   "metadata": {},
   "outputs": [
    {
     "data": {
      "image/png": "[encoded data removed]",
      "text/plain": [
       "<Figure size 432x288 with 1 Axes>"
      ]
     },
     "metadata": {
      "needs_background": "light"
     },
     "output_type": "display_data"
    }
   ],
   "source": [
    "p3=plot(g,(x,0,1),line_color = 'r' ,show=False)  # caso ideal, cuando y=x\n",
    "p4=plot(x,(x,0,1),line_color = 'g' ,show=False)  # curva de lorentz\n",
    "p3.append(p3[0])                                 # El área entre las curvas es el coeficiente Gini\n",
    "p3.append(p4[0])\n",
    "p3.show()"
   ]
  },
  {
   "cell_type": "markdown",
   "metadata": {},
   "source": [
    "### Ejemplo\n",
    "\n",
    "En cierta ciudad la curva de Lorentz esta dada por la función $g(x) = \\frac{x^2}{3} + \\frac{2}{3}x$. Calcule el coeficiente de Gini.\n",
    "#### Solución:"
   ]
  },
  {
   "cell_type": "code",
   "execution_count": 40,
   "metadata": {},
   "outputs": [],
   "source": [
    "def Gini(f):\n",
    "    i=2*integrate(x-f,x)  # Integral de la fórmula de Gini\n",
    "    coeficiente = i.subs(x,1)-i.subs(x,0) \n",
    "    p3=plot(f,(x,0,1),line_color = 'r' ,show=False)  # caso ideal, cuando y=x\n",
    "    p4=plot(x,(x,0,1),line_color = 'g' ,show=False)  # curva de lorentz\n",
    "    p3.append(p3[0])                                 # El área entre las curvas es el coeficiente Gini\n",
    "    p3.append(p4[0])\n",
    "    p3.show()\n",
    "    return print(coeficiente)"
   ]
  },
  {
   "cell_type": "code",
   "execution_count": 41,
   "metadata": {},
   "outputs": [
    {
     "data": {
      "image/png": "[encoded data removed]",
      "text/plain": [
       "<Figure size 432x288 with 1 Axes>"
      ]
     },
     "metadata": {
      "needs_background": "light"
     },
     "output_type": "display_data"
    },
    {
     "name": "stdout",
     "output_type": "stream",
     "text": [
      "0.111111111111111\n"
     ]
    }
   ],
   "source": [
    "Gini(x**2/3+2/3*x)"
   ]
  },
  {
   "cell_type": "markdown",
   "metadata": {},
   "source": [
    "## Ejercicios\n",
    "\n",
    "1. En cierta ciudad la curva de Lorenz está dada por $f(x) = \\frac{7}{13}x^2 + \\frac{6}{13}x$.\n",
    "   1. Calcule $f(0.35)$ y $f(0.9)$. Interprete los valores obtenidos.\n",
    "   2. ¿Cuál es el porcentaje de ingreso que recibe el 50% de la población con los ingresos más bajos?\n",
    "   3. Calcule el coeficiente de desigualdad. Interprete este valor. \n",
    "   \n",
    "2. En cierta ciudad la curva de Lorenz está dada por $f(x) = \\frac{1}{100}x^2 + \\frac{99}{100}x$.\n",
    "   1. Calcule $f(0.1)$ y $f(0.8)$. Interprete los valores obtenidos.\n",
    "   2. ¿Cuál es el porcentaje de ingreso que recibe el 40% de la población con los ingresos más bajos?\n",
    "   3. Calcule el coeficiente de desigualdad. Interprete este valor.  \n",
    "   \n",
    "# Curvas de aprendizaje\n",
    "   \n",
    "\n",
    "Se sabe que la producción de una empresa tiende a requerir menos tiempo en la elaboración de\n",
    "una tarea particular si ya la ha realizado antes un número de veces. En otras palabras,\n",
    "cuanto más repita una persona una tarea, será más eficiente y empleará menos\n",
    "tiempo al realizarla de nuevo. Así, entre más unidades se produzcan en una serie de\n",
    "producción, el tiempo necesario para producir cada unidad irá descendiendo.\n",
    "\n",
    "Supongamos que $T = F(x)$ es el tiempo (por ejemplo en horas-hombre) necesario para la producción de las primeras $x$ unidades de un cierto producto, entonces la derivada de esta función $F'(x) = f (x)$, representa el tiempo requerido de producir una unidad adicional, es decir, la derivada es el tiempo empleado de producir la unidad $x + 1$. \n",
    "\n",
    "Por lo general, la función derivada $F'(x) = f(x)$  tiene la forma $f(x) = ax^b$, donde $a > 0$ y $-1 \\le b < 0$. Esta función $f$ se cononce como **curva de aprendizaje**. La elección de esta función $f$, asegura que el tiempo requerido por unidad disminuye a medida que se producen más y más unidades.\n",
    "\n",
    "La curva de aprendizaje $f$ puede utilizarse en la predicción del número total de horas-hombre requeridas en niveles de\n",
    "producción futuros. A continuación ilustramos esta idea.\n",
    "\n",
    "Observe que, el número total de horas-hombre $\\Delta T$ requeridas para producir unidades numeradas desde $n+1$ hasta $m$ está dado por\n",
    "\n",
    "$$ \\Delta T = (tiempo \\ en \\ horas \\ hombre \\ para \\ producir \\  m \\ unidades) - (tiempo \\ en \\ horas \\ hombre \\ para \\ producir \\ las \\ primeras \\ n \\ unidades)   $$\n",
    "\n",
    "En simbolos se tiene que\n",
    "\n",
    "$$ \\Delta T = F(m) - F(n)  $$\n",
    "\n",
    "Pero, $F(x) = f'(x)$ entonces por el Teorema Fundamental del Cálculo, se debe tener que \n",
    "\n",
    "$$ \\Delta T = \\int_n^m f(x) \\, dx.$$\n",
    "\n",
    "Veamos un ejemplo para ilustrar estas ideas.\n",
    "\n",
    "## Ejemplo\n",
    "\n",
    "Una compañía hace un estudio de producción y determina que después de\n",
    "producir 500 unidades de su producto, la curva de aprendizaje está dada por \n",
    "\n",
    "$$  f (x) = 10x^{-0.2},  $$\n",
    "\n",
    "en donde $f(x)$ es el número total de horas-hombre requeridas para ensamblar la unidad $x + 1$ del producto. \n",
    "¿Cuál es el número de horas-hombre requeridas en el ensamblado de 1500 unidades adicionales del producto?\n",
    "\n",
    "### Solución:\n",
    "\n",
    "Debemos hallar la integral de la curva de aprendizaje en el intervalo de 500 unidades hasta 1500 unidades adicionales, esto es hasta 2000. Utilicemos Python para este proposito. "
   ]
  },
  {
   "cell_type": "code",
   "execution_count": 6,
   "metadata": {},
   "outputs": [
    {
     "data": {
      "image/png": "[encoded data removed]",
      "text/latex": [
       "$$12.5 x^{0.8}$$"
      ],
      "text/plain": [
       "      0.8\n",
       "12.5⋅x   "
      ]
     },
     "execution_count": 6,
     "metadata": {},
     "output_type": "execute_result"
    }
   ],
   "source": [
    "f=10*x**(-0.2)  # curva de aprendizaje\n",
    "I=integrate(f)    # integral de la curva de aprendizaje\n",
    "I"
   ]
  },
  {
   "cell_type": "code",
   "execution_count": 7,
   "metadata": {},
   "outputs": [
    {
     "data": {
      "image/png": "[encoded data removed]",
      "text/latex": [
       "$$3663.43548733238$$"
      ],
      "text/plain": [
       "3663.43548733238"
      ]
     },
     "execution_count": 7,
     "metadata": {},
     "output_type": "execute_result"
    }
   ],
   "source": [
    "C=I.subs(x,2000)-I.subs(x,500) # Integral evaluada entre 500 y 2000\n",
    "C"
   ]
  },
  {
   "cell_type": "markdown",
   "metadata": {},
   "source": [
    "Por lo tanto, se requieren 3663,43 horas-hombre para poducir 1500 unidades adicionales después de la unidad 500."
   ]
  },
  {
   "cell_type": "markdown",
   "metadata": {},
   "source": [
    "## Ejemplo\n",
    "\n",
    "Después de observar las primeras 300 unidades de su producto, una empresa determina que el tiempo de mano de obra requerido a fin de ensamblar la unidad $(x+1)$ fue de $$ f(x) = 400x^{-0.5}.  $$\n",
    "\n",
    "Calcule el número de horas de mano de obra requeridas para producir 400 unidades adicionales del producto.\n",
    "\n",
    "### Solución:"
   ]
  },
  {
   "cell_type": "code",
   "execution_count": 48,
   "metadata": {},
   "outputs": [
    {
     "data": {
      "image/png": "[encoded data removed]",
      "text/latex": [
       "$\\displaystyle 800.0 x^{0.5}$"
      ],
      "text/plain": [
       "       0.5\n",
       "800.0⋅x   "
      ]
     },
     "execution_count": 48,
     "metadata": {},
     "output_type": "execute_result"
    }
   ],
   "source": [
    "g=400*x**(-0.5)  # curva de aprendizaje\n",
    "I=integrate(g)    # integral de la curva de aprendizaje\n",
    "I"
   ]
  },
  {
   "cell_type": "code",
   "execution_count": 49,
   "metadata": {},
   "outputs": [
    {
     "data": {
      "image/png": "[encoded data removed]",
      "text/latex": [
       "$\\displaystyle 7309.6040279657$"
      ],
      "text/plain": [
       "7309.60402796570"
      ]
     },
     "execution_count": 49,
     "metadata": {},
     "output_type": "execute_result"
    }
   ],
   "source": [
    "C=I.subs(x,700)-I.subs(x,300) # Integral evaluada entre 500 y 2000\n",
    "C"
   ]
  },
  {
   "cell_type": "markdown",
   "metadata": {},
   "source": [
    "Por lo tanto, se requieren 7309.60 horas de mano de obra para producir 400 unidades adicionales después de la unidad 300."
   ]
  },
  {
   "cell_type": "markdown",
   "metadata": {},
   "source": [
    "## Ejercicios\n",
    "\n",
    "1. Una compañia hace un estudio de producción y determina que después de\n",
    "   producir 300 unidades de su producto, la curva de aprendizaje está dada por\n",
    "\n",
    "   $$ f(x) = 20x^{-0.3}   $$\n",
    "\n",
    "   en donde $f(x)$ es el número total de horas-hombre requeridas para ensamblar\n",
    "   la unidad $x+1$ del producto.\n",
    "\n",
    "   ¿Cuál es el número de horas-hombre requeridas\n",
    "   en el ensamblado de 1.000 unidades adicionales del producto?\n",
    "\n",
    "2. Después de observar las primeras 650 unidades de su producto, una empresa\n",
    "   determina que el tiempo de mano de obra requerido a finn de ensamblar la\n",
    "   unidad $(x+1)$ fue de\n",
    "   \n",
    "   $$  f(x) = 480x^{-0.6}   $$\n",
    "   \n",
    "   Calcule el número de horas de mano de obra requeridas para producir 700\n",
    "   unidades adicionales del producto.\n",
    "\n"
   ]
  },
  {
   "cell_type": "code",
   "execution_count": null,
   "metadata": {},
   "outputs": [],
   "source": [
    "2.548"
   ]
  },
  {
   "cell_type": "code",
   "execution_count": 2,
   "metadata": {},
   "outputs": [
    {
     "ename": "NameError",
     "evalue": "name 'equation' is not defined",
     "output_type": "error",
     "traceback": [
      "\u001b[0;31m---------------------------------------------------------------------------\u001b[0m",
      "\u001b[0;31mNameError\u001b[0m                                 Traceback (most recent call last)",
      "\u001b[0;32m<ipython-input-2-ea02692a4d66>\u001b[0m in \u001b[0;36m<module>\u001b[0;34m()\u001b[0m\n\u001b[0;32m----> 1\u001b[0;31m \u001b[0mex\u001b[0m\u001b[0;34m=\u001b[0m\u001b[0mequation\u001b[0m\u001b[0;34m(\u001b[0m\u001b[0mx\u001b[0m\u001b[0;34m,\u001b[0m\u001b[0;36m0\u001b[0m\u001b[0;34m)\u001b[0m\u001b[0;34m\u001b[0m\u001b[0m\n\u001b[0m\u001b[1;32m      2\u001b[0m \u001b[0mex\u001b[0m\u001b[0;34m\u001b[0m\u001b[0m\n",
      "\u001b[0;31mNameError\u001b[0m: name 'equation' is not defined"
     ]
    }
   ],
   "source": [
    "eq"
   ]
  },
  {
   "cell_type": "code",
   "execution_count": null,
   "metadata": {},
   "outputs": [],
   "source": []
  }
 ],
 "metadata": {
  "kernelspec": {
   "display_name": "Python 3",
   "language": "python",
   "name": "python3"
  },
  "language_info": {
   "codemirror_mode": {
    "name": "ipython",
    "version": 3
   },
   "file_extension": ".py",
   "mimetype": "text/x-python",
   "name": "python",
   "nbconvert_exporter": "python",
   "pygments_lexer": "ipython3",
   "version": "3.7.1"
  },
  "latex_envs": {
   "LaTeX_envs_menu_present": true,
   "autoclose": false,
   "autocomplete": true,
   "bibliofile": "biblio.bib",
   "cite_by": "apalike",
   "current_citInitial": 1,
   "eqLabelWithNumbers": true,
   "eqNumInitial": 1,
   "hotkeys": {
    "equation": "Ctrl-E",
    "itemize": "Ctrl-I"
   },
   "labels_anchors": false,
   "latex_user_defs": false,
   "report_style_numbering": false,
   "user_envs_cfg": false
  },
  "toc": {
   "base_numbering": 1,
   "nav_menu": {},
   "number_sections": true,
   "sideBar": true,
   "skip_h1_title": true,
   "title_cell": "Table of Contents",
   "title_sidebar": "Contents",
   "toc_cell": false,
   "toc_position": {},
   "toc_section_display": true,
   "toc_window_display": true
  }
 },
 "nbformat": 4,
 "nbformat_minor": 4
}
