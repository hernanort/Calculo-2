{
 "cells": [
  {
   "cell_type": "markdown",
   "metadata": {},
   "source": [
    " <div style=\"background-color: #023324; \"><p><br></p>\n",
    "    <img src=\"https://www.uexternado.edu.co/wp-content/themes/externado_theme/images/logo-uec.svg\" alt=\"Universidad Externado\" width=\"150\" align=\"left\">\n",
    "         <h1  style=\"color: white;font-family:Lucida Sans Unicode, Lucida Grande, sans-serif\" align=\"center\"> Derivadas parciales     </h1> \n",
    "<p><br></p>\n",
    "</div>    \n",
    "\n",
    "\n",
    "<p><br></p>\n",
    "\n",
    "Como primera parte de la evaluación debe resolver calcular las  derivadas parciales que se le indiquen\n",
    "\n",
    "1. $f(x,y)=4x^2-5xy+2y^2$; $f_{xx},\\ f_{xy},\\ f_{yy}$.\n",
    "2. $g(x,y)=e^{3x^2y^5+1}$; $g_x$ y $g_y$.\n",
    "3. $h(x,y,z)=(x+y-z)ln(4x^6y^7z^3)$; $h_x$, $h_y$ y $h_z$"
   ]
  },
  {
   "cell_type": "code",
   "execution_count": 18,
   "metadata": {},
   "outputs": [],
   "source": [
    "from sympy import * \n",
    "from sympy.plotting import *\n",
    "init_printing(use_latex=True)  "
   ]
  },
  {
   "cell_type": "code",
   "execution_count": 6,
   "metadata": {},
   "outputs": [],
   "source": [
    "x = symbols(\"x\")\n",
    "y = symbols(\"y\")"
   ]
  },
  {
   "cell_type": "markdown",
   "metadata": {},
   "source": [
    "# Derivadas parciales\n",
    "Como antes el comando **diff** será de gran ayuda en la parte computacional, ya que permite calcular derivadas parciales de funciones de doc variables. Por ejemplo si \n",
    "\n",
    "$$f(x,y)=x^2+y^3$$\n",
    "para hallar $f_x$ y $f_y$ basta con digitar el siguinte código"
   ]
  },
  {
   "cell_type": "code",
   "execution_count": 23,
   "metadata": {},
   "outputs": [],
   "source": [
    "f=x**2+y**3"
   ]
  },
  {
   "cell_type": "code",
   "execution_count": 8,
   "metadata": {},
   "outputs": [
    {
     "name": "stderr",
     "output_type": "stream",
     "text": [
      "/home/nbuser/anaconda3_501/lib/python3.6/site-packages/matplotlib/font_manager.py:229: UserWarning: Matplotlib is building the font cache using fc-list. This may take a moment.\n",
      "  'Matplotlib is building the font cache using fc-list. '\n"
     ]
    },
    {
     "data": {
      "image/png": "[encoded data removed]",
      "text/latex": [
       "$$2 x$$"
      ],
      "text/plain": [
       "2⋅x"
      ]
     },
     "execution_count": 8,
     "metadata": {},
     "output_type": "execute_result"
    }
   ],
   "source": [
    "dfx=diff(f,x)\n",
    "dfx"
   ]
  },
  {
   "cell_type": "code",
   "execution_count": 9,
   "metadata": {},
   "outputs": [
    {
     "data": {
      "image/png": "[encoded data removed]",
      "text/latex": [
       "$$3 y^{2}$$"
      ],
      "text/plain": [
       "   2\n",
       "3⋅y "
      ]
     },
     "execution_count": 9,
     "metadata": {},
     "output_type": "execute_result"
    }
   ],
   "source": [
    "dfy=diff(f,y)\n",
    "dfy"
   ]
  },
  {
   "cell_type": "markdown",
   "metadata": {},
   "source": [
    "Recordemos que la manera en la que se evalúan las funciones de dos variables es la siguiente:"
   ]
  },
  {
   "cell_type": "code",
   "execution_count": 10,
   "metadata": {},
   "outputs": [
    {
     "data": {
      "image/png": "[encoded data removed]",
      "text/latex": [
       "$$2$$"
      ],
      "text/plain": [
       "2"
      ]
     },
     "execution_count": 10,
     "metadata": {},
     "output_type": "execute_result"
    }
   ],
   "source": [
    "z1=dfx.subs([(x,1),(y,2)])\n",
    "z1"
   ]
  },
  {
   "cell_type": "code",
   "execution_count": 11,
   "metadata": {},
   "outputs": [
    {
     "data": {
      "image/png": "[encoded data removed]",
      "text/latex": [
       "$$12$$"
      ],
      "text/plain": [
       "12"
      ]
     },
     "execution_count": 11,
     "metadata": {},
     "output_type": "execute_result"
    }
   ],
   "source": [
    "z2=dfy.subs([(x,1),(y,2)])\n",
    "z2"
   ]
  },
  {
   "cell_type": "markdown",
   "metadata": {
    "solution2": "shown",
    "solution2_first": true
   },
   "source": [
    "# Ejercicio\n",
    "Cree una función que calcule las primeras derivadas de una función de 2 variables, la cual depende de las variables $x$ y $y$, y las evalúe en un punto dado, como también a la función."
   ]
  },
  {
   "cell_type": "code",
   "execution_count": 35,
   "metadata": {
    "solution2": "shown"
   },
   "outputs": [],
   "source": [
    "def derivayevalua(f,a,b):  \n",
    "    Df_x=diff(f,x)\n",
    "    Df_y=diff(f,y)\n",
    "    print(\"El valor de  f(\",a,\",\",b,\")  es:\", f.subs([(x,a),(y,b)]))\n",
    "    print(\"El valor de f_x(\",a,\",\",b,\") es:\", Df_x.subs([(x,a),(y,b)]))\n",
    "    print(\"El valor de f_y(\",a,\",\",b,\") es:\", Df_y.subs([(x,a),(y,b)]))"
   ]
  },
  {
   "cell_type": "code",
   "execution_count": 36,
   "metadata": {
    "scrolled": true,
    "solution2": "shown"
   },
   "outputs": [
    {
     "name": "stdout",
     "output_type": "stream",
     "text": [
      "El valor de  f( 1 , 2 )  es: 9\n",
      "El valor de f_x( 1 , 2 ) es: 2\n",
      "El valor de f_y( 1 , 2 ) es: 12\n"
     ]
    }
   ],
   "source": [
    "derivayevalua(f,1,2)"
   ]
  },
  {
   "cell_type": "markdown",
   "metadata": {},
   "source": [
    "# Ejercicio\n",
    "La función de producción de cierta empresa está dada por\n",
    "$$P=5L + 3L^2 + 4LK + 8K + 6K^2$$\n",
    "en donde $L$ es el insumo mano de obra medido en miles de horas-hombre por semana, $K$ es el monto de capital invertido medido en miles de dólares por semana y P\n",
    "es la producción semanal en miles de artículos. Determine las productividades marginales cuando $L=10$ y $K=15$ e interprete el resultado."
   ]
  },
  {
   "cell_type": "markdown",
   "metadata": {},
   "source": [
    "# Relaciones de demanda\n",
    "\n",
    "## Productos competitivos y complementarios\n",
    "### Ejemplo\n",
    "Suponga que hay dos marcas de celulares, marca A y marca B, las cuales son las líderes a nivel mundial en celulares de alta gama. \n",
    "\n",
    "¿Qué sucede con la demanda de la marca A, si ella aumenta el precio de sus celulares?\n",
    "\n",
    "*R:* La demanda debería disminuir. Lo mismo ocurriría para la marca B.\n",
    "\n",
    "Este hecho se puede entender matemáticamente como que la derivada de la demanda de A respecto al precio de A es negativa, lo mismo para el producto de la marca B:\n",
    "$$\\frac{\\partial X_A}{\\partial P_A}<0;\\ \\ \\ \\frac{\\partial X_B}{\\partial P_B}<0$$\n",
    "Esto es normal que suceda con cualquier producto.\n",
    "\n",
    "\n",
    "¿Qué sucede con la demanda de la marca A si B aumenta su precio?\n",
    "\n",
    "*R:* La demanda de A debería aumentar cuando B aumente su precio. De manera análoga sucedería con la demanda de B si A aumenta su precio.\n",
    "\n",
    "$$\\frac{\\partial X_A}{\\partial P_B}>0;\\ \\ \\ \\frac{\\partial X_B}{\\partial P_A}>0$$\n",
    "Cuando esto sucede se dice que los productos son **COMPETITIVOS**.\n",
    "\n",
    "### Ejemplo\n",
    "Suponga que se tienen dos productos, A el cual es un celular y B el forro protector del mismo.\n",
    "\n",
    "¿Qué sucede con la demanda de los forros si el precio del celular aumenta?\n",
    "\n",
    "*R:* Al aumentar el precio de A su demanda disminuye por lo tanto la demanda de B disminuye, es decir\n",
    "$$\\frac{\\partial X_A}{\\partial P_B}<0;\\ \\ \\ \\frac{\\partial X_B}{\\partial P_A}<0$$\n",
    "Cuando esto sucede los productos se dicen **COMPLEMENTARIOS**\n",
    "\n",
    "\n",
    "\n",
    "## Ejercicio\n",
    "Las demandas $x_A$ y $x_B$ de los productos $A$ y $B$ están dadas por las funciones\n",
    "$$x_A= 300 + 5p_B - 7p_A^2;\\ \\ \\ x_B = 250 - 9p_B + 2p_A$$\n",
    "en donde $p_A$ y $p_B$ son los precios unitarios de $A$ y $B$, respectivamente. Determine las cuatro funciones de demanda marginal e investigue si los productos $A$ y $B$ son competitivos o complementarios entre sí.\n",
    "\n",
    "## Elasticidad\n",
    "La elasticidad de la demanda mide que tan sensible es un producto repecto al cambio en el precio.\n",
    "\n",
    "Si la demanda del producto $A$ depende de los precios $P_A$ y $P_B$ ésta se puede derivar respecto a cualquiera de las los varibles, por lo que es posible calcular dos razones de cambio porcentuales:\n",
    "\n",
    "1. **Elasticidad de la demanda de A** la cual se define como:\n",
    "$$\\eta_{p_A}=\\frac{\\ \\frac{\\partial x_A}{\\partial p_A}\\ }{\\frac{x_A}{p_A}}=\\ \\frac{\\partial x_A}{\\partial p_A}\\frac{p_A}{x_A}$$\n",
    "\n",
    "2. **Elasticidad de la demanda cruzada de A** la cual se puede ver como:\n",
    "$$\\eta_{p_B}=\\frac{\\ \\frac{\\partial x_A}{\\partial p_B}\\ }{\\frac{x_A}{p_B}}=\\ \\frac{\\partial x_A}{\\partial p_B}\\frac{p_B}{x_A}$$\n",
    "\n",
    "Cuando $|\\eta_{p_A}|>1$ el producto se dice elástico, si $|\\eta_{p_A}|<1$ se conoce como inelástico, mientras que $|\\eta_{p_A}|=1$ la demanda se dice unitaria.\n",
    "\n",
    "Por ejemplo, si $\\eta_{p_A}=-3$ se interpreta como que un aumento del $1\\%$ en el precio implica una caída del $3\\%$ en las ventas del producto.\n",
    "\n",
    "## Ejercicio\n",
    "La función de demanda del producto A está dada por\n",
    "$$x_A = 250 +0.3p_B - 5p^2_A$$\n",
    "\n",
    "Determine $\\eta_{p_A}$ y $\\eta_{p_B}$ cuando $p_A = 6$ y $p_B = 50$."
   ]
  },
  {
   "cell_type": "code",
   "execution_count": null,
   "metadata": {},
   "outputs": [],
   "source": []
  }
 ],
 "metadata": {
  "kernelspec": {
   "display_name": "Python 3",
   "language": "python",
   "name": "python3"
  },
  "language_info": {
   "codemirror_mode": {
    "name": "ipython",
    "version": 3
   },
   "file_extension": ".py",
   "mimetype": "text/x-python",
   "name": "python",
   "nbconvert_exporter": "python",
   "pygments_lexer": "ipython3",
   "version": "3.7.1"
  },
  "latex_envs": {
   "LaTeX_envs_menu_present": true,
   "autoclose": false,
   "autocomplete": true,
   "bibliofile": "biblio.bib",
   "cite_by": "apalike",
   "current_citInitial": 1,
   "eqLabelWithNumbers": true,
   "eqNumInitial": 1,
   "hotkeys": {
    "equation": "Ctrl-E",
    "itemize": "Ctrl-I"
   },
   "labels_anchors": false,
   "latex_user_defs": false,
   "report_style_numbering": false,
   "user_envs_cfg": false
  },
  "toc": {
   "base_numbering": 1,
   "nav_menu": {},
   "number_sections": true,
   "sideBar": true,
   "skip_h1_title": true,
   "title_cell": "Table of Contents",
   "title_sidebar": "Contents",
   "toc_cell": false,
   "toc_position": {
    "height": "calc(100% - 180px)",
    "left": "10px",
    "top": "150px",
    "width": "355.556px"
   },
   "toc_section_display": true,
   "toc_window_display": false
  }
 },
 "nbformat": 4,
 "nbformat_minor": 2
}
