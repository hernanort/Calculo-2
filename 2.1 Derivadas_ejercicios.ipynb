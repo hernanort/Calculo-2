{
 "cells": [
  {
   "cell_type": "markdown",
   "metadata": {
    "collapsed": true
   },
   "source": [
    " <div style=\"background-color: #023324; \"><p><br></p>\n",
    "    <img src=\"https://www.uexternado.edu.co/wp-content/themes/externado_theme/images/logo-uec.svg\" alt=\"Universidad Externado\" width=\"150\" align=\"left\">\n",
    "         <h1  style=\"color: white;font-family:Lucida Sans Unicode, Lucida Grande, sans-serif\" align=\"center\"> Derivada     </h1> \n",
    "<p><br></p>\n",
    "</div>    \n",
    "\n",
    "\n",
    "<p><br></p>\n",
    "\n",
    "# Ejercicios de Derivadas\n",
    "\n",
    "En esta sesión vamos a desarrollar algunos ejercicios de razón de cambio y derivadas de funciones elementales.\n",
    "\n",
    "Recuerde que para encontrar la derivada de una función $F$, debe utilizar la instrucción *diff(F)*.\n",
    "\n",
    "A continuación se presenta un ejemplo."
   ]
  },
  {
   "cell_type": "markdown",
   "metadata": {},
   "source": [
    "## Ejemplo\n",
    "\n",
    "Calcule la derivada de la función $$ f(x) =  x^3(x^2 +4x)^5$$"
   ]
  },
  {
   "cell_type": "code",
   "execution_count": 30,
   "metadata": {},
   "outputs": [
    {
     "name": "stdout",
     "output_type": "stream",
     "text": [
      "Requirement already satisfied: sympy in /home/nbuser/anaconda3_501/lib/python3.6/site-packages (1.3)\n",
      "\u001b[33mWARNING: You are using pip version 19.3.1; however, version 20.0.2 is available.\n",
      "You should consider upgrading via the 'pip install --upgrade pip' command.\u001b[0m\n"
     ]
    }
   ],
   "source": [
    "!pip install sympy"
   ]
  },
  {
   "cell_type": "code",
   "execution_count": 31,
   "metadata": {},
   "outputs": [],
   "source": [
    "from sympy import * \n",
    "init_printing()"
   ]
  },
  {
   "cell_type": "code",
   "execution_count": 32,
   "metadata": {},
   "outputs": [],
   "source": [
    "x=symbols(\"x\")"
   ]
  },
  {
   "cell_type": "code",
   "execution_count": 33,
   "metadata": {},
   "outputs": [
    {
     "data": {
      "image/png": "[encoded data removed]",
      "text/latex": [
       "$$x^{3} \\left(x^{2} + 4 x\\right)^{5}$$"
      ],
      "text/plain": [
       "             5\n",
       " 3 ⎛ 2      ⎞ \n",
       "x ⋅⎝x  + 4⋅x⎠ "
      ]
     },
     "execution_count": 33,
     "metadata": {},
     "output_type": "execute_result"
    }
   ],
   "source": [
    "F=x**3*(x**2+4*x)**5\n",
    "F"
   ]
  },
  {
   "cell_type": "code",
   "execution_count": 34,
   "metadata": {},
   "outputs": [
    {
     "data": {
      "image/png": "[encoded data removed]",
      "text/latex": [
       "$$x^{3} \\left(10 x + 20\\right) \\left(x^{2} + 4 x\\right)^{4} + 3 x^{2} \\left(x^{2} + 4 x\\right)^{5}$$"
      ],
      "text/plain": [
       "                         4                  5\n",
       " 3             ⎛ 2      ⎞       2 ⎛ 2      ⎞ \n",
       "x ⋅(10⋅x + 20)⋅⎝x  + 4⋅x⎠  + 3⋅x ⋅⎝x  + 4⋅x⎠ "
      ]
     },
     "execution_count": 34,
     "metadata": {},
     "output_type": "execute_result"
    }
   ],
   "source": [
    "derivada_F=diff(F)\n",
    "derivada_F"
   ]
  },
  {
   "cell_type": "markdown",
   "metadata": {},
   "source": [
    "## Ejercicios\n",
    "\n",
    "Calcule la función derivada de las siguientes funciones\n",
    "\n",
    "1. $f(x) = (x^3 + 4x^2)^3(4 - 5x^4)^6$.\n",
    "2. $ g(t) = e^\\sqrt{3x +4}$\n",
    "3. $h(x) = \\frac{x^2}{9-x^2}$\n",
    "4. $f(x) = \\frac{x^4 \\ln (x^3 + 5x^6)}{x^3 + x^4 + x +4}$"
   ]
  },
  {
   "cell_type": "markdown",
   "metadata": {},
   "source": [
    "## Costo Marginal\n",
    "\n",
    "Si una empresa produce un cierto artículo y sabe que los costos totales de producir $x$ articulos, es una funcíon $C(x)$, entonces la derivada de esta función se llama **Costo Marginal**. La función de costo marginal tiene la siguiente interpretación.\n",
    "\n",
    "Si la empresa produce $x=a$ artículos, entonces el costo marginal de producir $x=a$ artículos, denotado por $C'(a)$, es el costo de producir una unidad adicional, es decir, es el costo de producir la unidad número $a + 1$.\n",
    "\n",
    "### Ejemplo\n",
    "\n",
    "Suponga que una empresa de televisores tiene una función de costo \n",
    "\n",
    "total  $$ C(x) = \\sqrt{100 + x^2}  $$\n",
    "\n",
    "1. Calcule la función de costo marginal.\n",
    "\n",
    "2. Calcule el costo marginal de producir 20 unidades.\n",
    "\n",
    "#### Solución \n",
    "\n",
    "Para hallar la función de costo marginal, encontramos la derivada de la función de costo total $C(x)$."
   ]
  },
  {
   "cell_type": "code",
   "execution_count": 35,
   "metadata": {},
   "outputs": [
    {
     "data": {
      "image/png": "[encoded data removed]",
      "text/latex": [
       "$$\\sqrt{x^{2} + 100}$$"
      ],
      "text/plain": [
       "   __________\n",
       "  ╱  2       \n",
       "╲╱  x  + 100 "
      ]
     },
     "execution_count": 35,
     "metadata": {},
     "output_type": "execute_result"
    }
   ],
   "source": [
    "Costo = sqrt(100 + x**2)\n",
    "Costo"
   ]
  },
  {
   "cell_type": "code",
   "execution_count": 36,
   "metadata": {},
   "outputs": [
    {
     "name": "stdout",
     "output_type": "stream",
     "text": [
      "La función de costo marginal es C'(x)= \n"
     ]
    },
    {
     "data": {
      "image/png": "[encoded data removed]",
      "text/latex": [
       "$$\\frac{x}{\\sqrt{x^{2} + 100}}$$"
      ],
      "text/plain": [
       "      x      \n",
       "─────────────\n",
       "   __________\n",
       "  ╱  2       \n",
       "╲╱  x  + 100 "
      ]
     },
     "execution_count": 36,
     "metadata": {},
     "output_type": "execute_result"
    }
   ],
   "source": [
    "Costo_marginal = diff(Costo)\n",
    "print(\"La función de costo marginal es C'(x)= \")\n",
    "Costo_marginal"
   ]
  },
  {
   "cell_type": "markdown",
   "metadata": {},
   "source": [
    "Ahora, evaluamos esta función de costo marginal cuando $x = 20$ (recuerde utilizar la instruccion **funcion.subs(x, _)**)"
   ]
  },
  {
   "cell_type": "code",
   "execution_count": 37,
   "metadata": {},
   "outputs": [
    {
     "name": "stdout",
     "output_type": "stream",
     "text": [
      "el costo marginal de producir 50 unidades es: 2*sqrt(5)/5\n"
     ]
    }
   ],
   "source": [
    "print(\"el costo marginal de producir 50 unidades es:\", Costo_marginal.subs(x,20))"
   ]
  },
  {
   "cell_type": "code",
   "execution_count": 38,
   "metadata": {},
   "outputs": [
    {
     "data": {
      "image/png": "[encoded data removed]",
      "text/latex": [
       "$$\\frac{2 \\sqrt{5}}{5}$$"
      ],
      "text/plain": [
       "2⋅√5\n",
       "────\n",
       " 5  "
      ]
     },
     "execution_count": 38,
     "metadata": {},
     "output_type": "execute_result"
    }
   ],
   "source": [
    "Costo_marginal.subs(x,20)"
   ]
  },
  {
   "cell_type": "markdown",
   "metadata": {},
   "source": [
    "**Este es el costo de producir una unidad adicional a las 50 unidades.** "
   ]
  },
  {
   "cell_type": "markdown",
   "metadata": {},
   "source": [
    "## Ejercicio\n",
    "\n",
    "Si una empresa tiene una función de costo marginal\n",
    "\n",
    "$$ C(x) = 20 + 2x + \\sqrt{x^2 +1}   $$.\n",
    "\n",
    "Calcule el costo marginal de producir 15 unidades."
   ]
  },
  {
   "cell_type": "markdown",
   "metadata": {},
   "source": [
    "## Ingreso marginal\n",
    "\n",
    "El ingreso se calcula multiplicando el precio de un artículo por la cantidad de articulos vendidos. Si $x$ es la cantidad de artículos vendidos y $p$ es el precio de cada artículo, entonces\n",
    "Ingreso = $p\\cdot x$.\n",
    "\n",
    "En ocaciones el precio de un artículo depende del numero de articulos vendidos, esto es $p = p(x)$. Esta relación se conoce como **demanda**. Luego, si la ecuación de  demanda de un cierto articulo, es $p(x)$, entonces el ingreso = $xp(x)$.\n",
    "\n",
    "Si $I(x)$ es la función de ingreso, entonces la derivada se conoce como **Ingreso Marginal**, y tiene una interpreatción analoga al caso del costo. Veamos un ejemplo.\n",
    "\n",
    "\n",
    "### Ejemplo \n",
    "\n",
    "\n",
    "\n",
    "\n",
    "\n"
   ]
  },
  {
   "cell_type": "markdown",
   "metadata": {},
   "source": [
    "Determine el ingreso marginal, si sabemos que la ecuación de demanda está dada por\n",
    "\n",
    "$$ p = \\sqrt{100-0.1x-0.0001x^2} $$\n",
    "\n",
    "Calcule el ingreso marginal de vender 60 unidades. Interprete su resultado.\n",
    "#### Solución:"
   ]
  },
  {
   "cell_type": "code",
   "execution_count": 39,
   "metadata": {},
   "outputs": [
    {
     "data": {
      "image/png": "[encoded data removed]",
      "text/latex": [
       "$$x \\sqrt{- 0.0001 x^{2} - 0.1 x + 100}$$"
      ],
      "text/plain": [
       "     ___________________________\n",
       "    ╱           2               \n",
       "x⋅╲╱  - 0.0001⋅x  - 0.1⋅x + 100 "
      ]
     },
     "execution_count": 39,
     "metadata": {},
     "output_type": "execute_result"
    }
   ],
   "source": [
    "Ingreso = x*sqrt(100-0.1*x-0.0001*x**2)\n",
    "Ingreso"
   ]
  },
  {
   "cell_type": "code",
   "execution_count": 27,
   "metadata": {},
   "outputs": [
    {
     "name": "stdout",
     "output_type": "stream",
     "text": [
      "El ingreso_marginaleso marginal es:\n"
     ]
    },
    {
     "data": {
      "image/png": "[encoded data removed]",
      "text/latex": [
       "$$\\frac{x \\left(- 0.0001 x - 0.05\\right)}{\\sqrt{- 0.0001 x^{2} - 0.1 x + 100}} + \\sqrt{- 0.0001 x^{2} - 0.1 x + 100}$$"
      ],
      "text/plain": [
       "                                    ___________________________\n",
       "     x⋅(-0.0001⋅x - 0.05)          ╱           2               \n",
       "────────────────────────────── + ╲╱  - 0.0001⋅x  - 0.1⋅x + 100 \n",
       "   ___________________________                                 \n",
       "  ╱           2                                                \n",
       "╲╱  - 0.0001⋅x  - 0.1⋅x + 100                                  "
      ]
     },
     "execution_count": 27,
     "metadata": {},
     "output_type": "execute_result"
    }
   ],
   "source": [
    "ingreso_marginal = diff(Ingreso)\n",
    "print(\"El ingreso_marginal es:l es:\")\n",
    "ingreso_marginal"
   ]
  },
  {
   "cell_type": "code",
   "execution_count": 28,
   "metadata": {},
   "outputs": [
    {
     "name": "stdout",
     "output_type": "stream",
     "text": [
      "el ingreso marginal de producir 60 unidades es: 9.32955325091173\n"
     ]
    }
   ],
   "source": [
    "print(\"el ingreso marginal de producir 60 unidades es:\", ingreso_marginal.subs(x, 60))"
   ]
  },
  {
   "cell_type": "markdown",
   "metadata": {},
   "source": [
    "El ingreso por vender una unidad extra de 60 unidades es: "
   ]
  },
  {
   "cell_type": "code",
   "execution_count": 29,
   "metadata": {},
   "outputs": [
    {
     "data": {
      "image/png": "[encoded data removed]",
      "text/latex": [
       "$$9.32955325091173$$"
      ],
      "text/plain": [
       "9.32955325091173"
      ]
     },
     "execution_count": 29,
     "metadata": {},
     "output_type": "execute_result"
    }
   ],
   "source": [
    "ingreso_marginal.subs(x, 60)"
   ]
  },
  {
   "cell_type": "markdown",
   "metadata": {},
   "source": [
    "### Ejercicio\n",
    "\n",
    "La ecuación de demanda de cierto artículo\n",
    "es\n",
    "\n",
    "$$ p = \\frac{250}{x^2 + 1}     $$\n",
    "\n",
    "Calcule el precio marginal a un\n",
    "nivel de demanda de 3 unidades.\n",
    "\n"
   ]
  },
  {
   "cell_type": "markdown",
   "metadata": {},
   "source": [
    "## Utilidad Marginal\n",
    "\n",
    "Finalmente, el mismo enfoque se tiene para una función de utilidad, su derivada se llama **Utilidad marinal**.\n",
    "\n",
    "Siguiendo las mismas ideas de los ejemplos y ejercicios anteriores, desarrolle el siguiente ejercicio.\n",
    "\n",
    "\n",
    "### Ejercicio\n",
    "\n",
    "Una compañía encuentra que su utilidad\n",
    "está dada por\n",
    "\n",
    "$$ U(p) = 2p e^{-0.1p}    $$\n",
    "\n",
    "cuando su producto está cotizado en $p$ dólares por unidad. Encuentre la utilidad marginal con respecto al precio cuando $p$ es:\n",
    "\n",
    "1. 5 dólares.\n",
    "2. 10 dólares.\n",
    "3. 15 dólares\n",
    "\n",
    "\n",
    "\n",
    "\n",
    "\n",
    "\n",
    "\n"
   ]
  },
  {
   "cell_type": "code",
   "execution_count": null,
   "metadata": {},
   "outputs": [],
   "source": []
  },
  {
   "cell_type": "code",
   "execution_count": null,
   "metadata": {},
   "outputs": [],
   "source": []
  },
  {
   "cell_type": "code",
   "execution_count": null,
   "metadata": {},
   "outputs": [],
   "source": []
  },
  {
   "cell_type": "code",
   "execution_count": null,
   "metadata": {},
   "outputs": [],
   "source": []
  }
 ],
 "metadata": {
  "kernelspec": {
   "display_name": "Python 3",
   "language": "python",
   "name": "python3"
  },
  "language_info": {
   "codemirror_mode": {
    "name": "ipython",
    "version": 3
   },
   "file_extension": ".py",
   "mimetype": "text/x-python",
   "name": "python",
   "nbconvert_exporter": "python",
   "pygments_lexer": "ipython3",
   "version": "3.7.1"
  },
  "latex_envs": {
   "LaTeX_envs_menu_present": true,
   "autoclose": false,
   "autocomplete": true,
   "bibliofile": "biblio.bib",
   "cite_by": "apalike",
   "current_citInitial": 1,
   "eqLabelWithNumbers": true,
   "eqNumInitial": 1,
   "hotkeys": {
    "equation": "Ctrl-E",
    "itemize": "Ctrl-I"
   },
   "labels_anchors": false,
   "latex_user_defs": false,
   "report_style_numbering": false,
   "user_envs_cfg": false
  },
  "toc": {
   "base_numbering": 1,
   "nav_menu": {},
   "number_sections": true,
   "sideBar": true,
   "skip_h1_title": true,
   "title_cell": "Table of Contents",
   "title_sidebar": "Contents",
   "toc_cell": false,
   "toc_position": {},
   "toc_section_display": true,
   "toc_window_display": true
  }
 },
 "nbformat": 4,
 "nbformat_minor": 2
}
