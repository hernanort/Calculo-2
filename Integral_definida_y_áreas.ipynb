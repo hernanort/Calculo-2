{
 "cells": [
  {
   "cell_type": "markdown",
   "metadata": {
    "collapsed": true
   },
   "source": [
    " <div style=\"background-color: #023324; \"><p><br></p>\n",
    "    <img src=\"https://www.uexternado.edu.co/wp-content/themes/externado_theme/images/logo-uec.svg\" alt=\"Universidad Externado\" width=\"150\" align=\"left\">\n",
    "         <h1  style=\"color: white;font-family:Lucida Sans Unicode, Lucida Grande, sans-serif\" align=\"center\"> Integral definida     </h1> \n",
    "<p><br></p>\n",
    "</div>    \n",
    "\n",
    "\n",
    "<p><br></p>\n",
    "Las integrales tienen una gran cantidad de aplicaciones, pero para poder llegar hasta ellas, es imprescindible conocer la integral definida.\n",
    "\n",
    "# ¿Qué es la integral definida?\n",
    "La integral definida tiene sus raíces en querer encontrar el área que se encuentra en una función no negativa $f(x)$ y el eje $x$, y entre dos valores de $x$ que llamaremos $a$ y $b$. Básicamente el área comprendida se aproxima utilizando rectángulos como se puede ver en el siguiente aplicativo\n",
    "\n",
    "https://www.geogebra.org/m/bu94bdce\n",
    "\n",
    "Para hallar el área real se necesita una cantidad infinita de rectángulos, por lo que definiremos la integral definida de la siguiente manera\n",
    "\n",
    "$$\\int_a^b f(x) dx := \\lim_{n\\to\\infty} A_1+A_2+\\cdots+A_n$$\n",
    "siendo $A_i$ el rectángulo $i-$ésimo de la figura.\n",
    "\n",
    "Sin entrar en tanto detalle existe una forma para simplificar el cálculo de la integral definida, es decir, evitar el calculo del límite, y esto se hace aplicando el **Teorema Fundamental del Cálculo** en su segunda parte la cual afirma lo siguiente:\n",
    "\n",
    "________________________________________________________________\n",
    "Teorema Fundamental del Cálculo:\n",
    "\n",
    "Dada una función $f(x)$ integrable en el intervalo $[a,b]$ y sea $F(x)$ cualquier antiderivada de $f$, es decir $F '(x) = f(x)$. Entonces\n",
    "\n",
    "$$\\int_{a}^{b} f(x) dx = F(b) - F(a).$$\n",
    "___________________________________________________________________\n",
    "¿Y qué pasa con la constante de integración?\n",
    "\n",
    "Hemos aprendido que cuando desarrollamos la integral de una función es necesario sumar siempre al final una constante $C$\n",
    "\n",
    "$$\\int f(x) \\, dx  = F(x) +C$$\n",
    "teniendo en cuenta que $[F(x)+C]' = f(x)$.\n",
    "\n",
    "Sin embargo en el ejemplo anterior no tuvimos en cuenta esa constante, esto es debe a que en los casos en los que es necesaria la evaluación de la integral, pues al realizar la resta entre los valores esta constante se cancela:\n",
    "\n",
    "$$ \\int_a^b f(x) \\, dx  = (F(b)+C)-(F(a)+C) = F(b)-F(a)$$\n",
    "\n",
    "## Ejemplo\n",
    "Halle el área comprendida entre el eje $x$ y la función $f(x)=x^2+4x+2$ para $x\\in[-1,4]$\n",
    "\n",
    "### Solución\n",
    "El ejercicio pide calcular la siguiente integral definida\n",
    "$$ \\int_{-1}^4 (x^2 + 4x + 2) \\, dx =\\left[\\frac{x^3}{3}+2x^2+2x\\right]_{-1}^{4}=\\left(\\frac{64}{3}+32+8\\right)-\\left(\\frac{-1}{3}+2-2\\right)=\\frac{185}{3}.$$\n",
    "\n",
    "# ¿Cómo aplicamos ésto en la administración?\n",
    "\n",
    "## Ejemplo\n",
    "\n",
    "El ingreso marginal de una empresa está dado por\n",
    "$$I′(x)=15-0.01x$$\n",
    "Determine los ingresos percibidos al elevar el volumen de ventas de 100 a 200 unidades.\n",
    "\n",
    "### Solución\n",
    "\n",
    "En éste problema nos piden calcular la diferencia entre $I(200)$ e $I(100)$ por lo tanto\n",
    "\\begin{align*}\n",
    "\\int_{100}^{200} (15-0.01x) \\, dx &= \\left(15x-0.01 \\cfrac{x^2}{2} \\right)\\bigg|_{100}^{200}\\\\ &=\\left(15(200)-0.01 \\cfrac{200^2}{2} \\right)-\\left(15(100)-0.01 \\cfrac{100^2}{2} \\right)\\\\\n",
    "&=1350\n",
    "\\end{align*}\n",
    "\n"
   ]
  },
  {
   "cell_type": "code",
   "execution_count": 4,
   "metadata": {},
   "outputs": [
    {
     "data": {
      "image/png": "[encoded data removed]",
      "text/latex": [
       "$$- 0.01 x + 15$$"
      ],
      "text/plain": [
       "-0.01⋅x + 15"
      ]
     },
     "execution_count": 4,
     "metadata": {},
     "output_type": "execute_result"
    }
   ],
   "source": [
    "f=15-0.01*x\n",
    "f"
   ]
  },
  {
   "cell_type": "code",
   "execution_count": 8,
   "metadata": {},
   "outputs": [],
   "source": [
    "F=integrate(f,x)"
   ]
  },
  {
   "cell_type": "code",
   "execution_count": 9,
   "metadata": {},
   "outputs": [
    {
     "data": {
      "image/png": "[encoded data removed]",
      "text/latex": [
       "$$1350.0$$"
      ],
      "text/plain": [
       "1350.00000000000"
      ]
     },
     "execution_count": 9,
     "metadata": {},
     "output_type": "execute_result"
    }
   ],
   "source": [
    "F.subs(x,200)-F.subs(x,100)"
   ]
  },
  {
   "cell_type": "markdown",
   "metadata": {},
   "source": [
    "# Propiedades\n",
    "\n",
    "Las siguientes son propiedades muy importantes de las integrales definidas\n",
    "\n",
    "1. $\\displaystyle \\int_a^b\\left(f(x)\\pm g(x)\\right)dx=\\int_a^bf(x)dx\\pm\\int_a^bg(x) dx$.\n",
    "2. $\\displaystyle \\int_a^b kf(x)dx=k\\int_a^b f(x)dx$, siendo $k$ un número real.\n",
    "3. $\\displaystyle \\int_a^a f(x)dx=0$.\n",
    "4. $\\displaystyle \\int_b^af(x)dx=-\\int_a^b f(x)dx $.\n",
    "5. $\\displaystyle \\int_a^bf(x)dx=\\int_a^cf(x)dx+\\int_c^bf(x)dx$ para cualquier $a<c<b.$\n",
    "\n",
    "## Ejemplos\n",
    "\n",
    "1. $$\\int_0^2 (x^2+2x) dx=\\int_0^2 x^2 dx+2\\int_0^2xdx=\\left[\\frac{x^3}{3}+x^2\\right]_0^2=\\frac{8}{3}+4-0=\\frac{20}{3}$$\n",
    "\n",
    "2. $$\\int_2^2 x^4dx=0$$\n",
    "\n",
    "3. $$\\int_0^6 x dx = \\frac{x^2}{2}\\bigg|_0^6=18-0=18$$\n",
    "\n",
    "$$\\int_6^0 x dx = \\frac{x^2}{2}\\bigg|_6^0=0-18=-18$$\n",
    "\n",
    "4.\n",
    "$$\\int_0^2 x dx = \\frac{x^2}{2}\\bigg|_0^2=2-0=2$$\n",
    "$$\\int_2^6 x dx = \\frac{x^2}{2}\\bigg|_2^6=18-2=16$$\n",
    "así \n",
    "\n",
    "$$\\int_0^2 x dx+\\int_2^6 x dx=18=\\int_0^6 x dx$$\n"
   ]
  },
  {
   "cell_type": "markdown",
   "metadata": {},
   "source": [
    "## Área entre curvas\n",
    "\n",
    "\n",
    "Ahora podemos utilizar la integral definida para encontrar el área de una región que está encerrada por dos curvas $f(x)$ y $g(x)$. \n",
    "\n",
    "Suponga que la gráfica de $f(x)$ esta completamente por encima de la gráfica de $g(x)$ en un intervalo $[a,b]$.\n",
    "\n",
    "El área de la región encerrada por la curvas $f(x)$, $g(x)$ y la rectas verticales $x = a$ y $x = b$ está dada por la integral \n",
    "$$  \\int_a^b \\left(f(x)  -  g(x)\\right) \\, dx.  $$ \n",
    "Como por ejemplo hallar el área encerrada entre las curvas \n",
    "$$f(x)=(x+3)^2;\\ g(x)=\\frac{1-2x}{3}; x=1;\\ x=4.$$"
   ]
  },
  {
   "cell_type": "code",
   "execution_count": 1,
   "metadata": {},
   "outputs": [],
   "source": [
    "from sympy import * \n",
    "from sympy.plotting import *\n",
    "init_printing()"
   ]
  },
  {
   "cell_type": "code",
   "execution_count": 2,
   "metadata": {},
   "outputs": [],
   "source": [
    "x=symbols(\"x\")\n",
    "y=symbols(\"y\")"
   ]
  },
  {
   "cell_type": "code",
   "execution_count": 6,
   "metadata": {
    "scrolled": true
   },
   "outputs": [
    {
     "data": {
      "image/png": "[encoded data removed]",
      "text/plain": [
       "<Figure size 432x288 with 1 Axes>"
      ]
     },
     "metadata": {
      "needs_background": "light"
     },
     "output_type": "display_data"
    }
   ],
   "source": [
    "p1=plot_implicit(Eq(x,1), line_color = 'c',show=False)\n",
    "p2=plot_implicit(Eq(x,4), line_color = 'c',show=False)\n",
    "p3=plot(1/3-2/3*x,line_color = 'r' ,show=False)\n",
    "p4=plot((x-3)**2,line_color = 'g' ,show=False)\n",
    "p1.append(p2[0])\n",
    "p1.append(p3[0])\n",
    "p1.append(p4[0])\n",
    "p1.show()"
   ]
  },
  {
   "cell_type": "markdown",
   "metadata": {},
   "source": [
    "Así la integral se puede plantear como \n",
    "\\begin{align*}\n",
    "\\int_1^4 \\left( (x-3)^2-\\left(\\frac{1-2x}{3}\\right) \\right) dx&=\\left[\\frac{(x-3)^3}{3}-\\frac{x}{3}+\\frac{x^2}{3}\\right]\\bigg|_1^4 \\\\\n",
    "&= \\frac{1}{3}-\\frac{4}{3}+\\frac{16}{3}-\\left(\\frac{-8}{3}-\\frac{1}{3}+\\frac{1}{3}\\right)\\\\\n",
    "&=7\n",
    "\\end{align*}\n"
   ]
  },
  {
   "cell_type": "markdown",
   "metadata": {},
   "source": [
    "### Ejemplo\n",
    "\n",
    "Calcular el área entre la curvas $f(x) = x^3 -2x^2 + 27$ y $g(x) = 3x^2+4x+7$.\n",
    "\n",
    "### Solución\n",
    "Si nos dan únicamente las funciones, quiere decir que ellas se cortan, de modo que para darnos una idea de lo que sucede vamos a graficar"
   ]
  },
  {
   "cell_type": "code",
   "execution_count": 8,
   "metadata": {
    "scrolled": false
   },
   "outputs": [
    {
     "data": {
      "image/png": "[encoded data removed]",
      "text/plain": [
       "<Figure size 432x288 with 1 Axes>"
      ]
     },
     "metadata": {
      "needs_background": "light"
     },
     "output_type": "display_data"
    }
   ],
   "source": [
    "G=plot(x**3-2*x**2+27,(x,-3,6),line_color='g',show=false);\n",
    "G.extend(plot(3*x**2+4*x+7,(x,-3,6),line_color='r',show=false))\n",
    "G.show()"
   ]
  },
  {
   "cell_type": "markdown",
   "metadata": {},
   "source": [
    "Por lo tanto vamos a hallar los puntos de corte entre ellas\n",
    "\\begin{align*}\n",
    "x^3-2x^2+27 &=3x^2+4x+7\\\\\n",
    "x^3-5x^2-4x+20 &=0\\\\\n",
    "(x+2)(x-2)(x-5)&=0\n",
    "\\end{align*}\n",
    "por lo tanto los cortes se dan cuando $x=-2,\\ x=2\\ x=5$.\n",
    "\n",
    "En la gráfica se observa que la región encerrada por las curvas son dos, por lo que debemos calcular dos integrale para calcular el area total, en otras palabras el área etá dada por: $$ \\int_{-2}^2\\left( (x^3 - 2x^2 + 27) - (3x^2+4x+7)\\right) \\, dx \n",
    "+\\int_{2}^5  \\left((3x^2+4x+7) - (x^3 - 2x^2 + 27)\\right) \\, dx. $$  "
   ]
  },
  {
   "cell_type": "code",
   "execution_count": 9,
   "metadata": {},
   "outputs": [
    {
     "data": {
      "image/png": "[encoded data removed]",
      "text/latex": [
       "$$x^{3} - 5 x^{2} - 4 x + 20$$"
      ],
      "text/plain": [
       " 3      2           \n",
       "x  - 5⋅x  - 4⋅x + 20"
      ]
     },
     "execution_count": 9,
     "metadata": {},
     "output_type": "execute_result"
    }
   ],
   "source": [
    "FI=(x**3-2*x**2+27)-(3*x**2+4*x+7)\n",
    "FI"
   ]
  },
  {
   "cell_type": "code",
   "execution_count": 10,
   "metadata": {},
   "outputs": [
    {
     "data": {
      "image/png": "[encoded data removed]",
      "text/latex": [
       "$$- x^{3} + 5 x^{2} + 4 x - 20$$"
      ],
      "text/plain": [
       "   3      2           \n",
       "- x  + 5⋅x  + 4⋅x - 20"
      ]
     },
     "execution_count": 10,
     "metadata": {},
     "output_type": "execute_result"
    }
   ],
   "source": [
    "FII=(3*x**2+4*x+7)-(x**3-2*x**2+27)\n",
    "FII"
   ]
  },
  {
   "cell_type": "code",
   "execution_count": 11,
   "metadata": {},
   "outputs": [
    {
     "data": {
      "image/png": "[encoded data removed]",
      "text/latex": [
       "$$\\frac{x^{4}}{4} - \\frac{5 x^{3}}{3} - 2 x^{2} + 20 x$$"
      ],
      "text/plain": [
       " 4      3              \n",
       "x    5⋅x       2       \n",
       "── - ──── - 2⋅x  + 20⋅x\n",
       "4     3                "
      ]
     },
     "execution_count": 11,
     "metadata": {},
     "output_type": "execute_result"
    }
   ],
   "source": [
    "antiderivadaI=integrate(FI)\n",
    "antiderivadaI"
   ]
  },
  {
   "cell_type": "code",
   "execution_count": 12,
   "metadata": {},
   "outputs": [
    {
     "data": {
      "image/png": "[encoded data removed]",
      "text/latex": [
       "$$- \\frac{x^{4}}{4} + \\frac{5 x^{3}}{3} + 2 x^{2} - 20 x$$"
      ],
      "text/plain": [
       "   4      3              \n",
       "  x    5⋅x       2       \n",
       "- ── + ──── + 2⋅x  - 20⋅x\n",
       "  4     3                "
      ]
     },
     "execution_count": 12,
     "metadata": {},
     "output_type": "execute_result"
    }
   ],
   "source": [
    "antiderivadaII=integrate(FII)\n",
    "antiderivadaII"
   ]
  },
  {
   "cell_type": "code",
   "execution_count": 13,
   "metadata": {},
   "outputs": [
    {
     "name": "stdout",
     "output_type": "stream",
     "text": [
      "El área de la región es =  937/12\n"
     ]
    }
   ],
   "source": [
    "Area=antiderivadaI.subs(x,2)-antiderivadaI.subs(x,-2) + antiderivadaII.subs(x,5)-antiderivadaII.subs(x,2)\n",
    "print(\"El área de la región es = \", Area)"
   ]
  },
  {
   "cell_type": "code",
   "execution_count": null,
   "metadata": {},
   "outputs": [],
   "source": []
  }
 ],
 "metadata": {
  "kernelspec": {
   "display_name": "Python 3",
   "language": "python",
   "name": "python3"
  },
  "language_info": {
   "codemirror_mode": {
    "name": "ipython",
    "version": 3
   },
   "file_extension": ".py",
   "mimetype": "text/x-python",
   "name": "python",
   "nbconvert_exporter": "python",
   "pygments_lexer": "ipython3",
   "version": "3.7.8"
  },
  "latex_envs": {
   "LaTeX_envs_menu_present": true,
   "autoclose": false,
   "autocomplete": true,
   "bibliofile": "biblio.bib",
   "cite_by": "apalike",
   "current_citInitial": 1,
   "eqLabelWithNumbers": true,
   "eqNumInitial": 1,
   "hotkeys": {
    "equation": "Ctrl-E",
    "itemize": "Ctrl-I"
   },
   "labels_anchors": false,
   "latex_user_defs": false,
   "report_style_numbering": false,
   "user_envs_cfg": false
  },
  "toc": {
   "base_numbering": 1,
   "nav_menu": {},
   "number_sections": true,
   "sideBar": true,
   "skip_h1_title": true,
   "title_cell": "Table of Contents",
   "title_sidebar": "Contents",
   "toc_cell": false,
   "toc_position": {
    "height": "calc(100% - 180px)",
    "left": "10px",
    "top": "150px",
    "width": "355.556px"
   },
   "toc_section_display": true,
   "toc_window_display": false
  }
 },
 "nbformat": 4,
 "nbformat_minor": 2
}
