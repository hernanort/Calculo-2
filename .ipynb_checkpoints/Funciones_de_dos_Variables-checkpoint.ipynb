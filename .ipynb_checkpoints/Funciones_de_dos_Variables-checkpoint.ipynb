{
 "cells": [
  {
   "cell_type": "markdown",
   "metadata": {},
   "source": [
    " <div style=\"background-color: #023324; \"><p><br></p>\n",
    "    <img src=\"https://www.uexternado.edu.co/wp-content/themes/externado_theme/images/logo-uec.svg\" alt=\"Universidad Externado\" width=\"150\" align=\"left\">\n",
    "         <h1  style=\"color: white;font-family:Lucida Sans Unicode, Lucida Grande, sans-serif\" align=\"center\"> Funciones de varias variables     </h1> \n",
    "<p><br></p>\n",
    "</div>    \n",
    "\n",
    "\n",
    "<p><br></p>"
   ]
  },
  {
   "cell_type": "code",
   "execution_count": null,
   "metadata": {},
   "outputs": [],
   "source": [
    "!pip install sympy\n",
    "%matplotlib inline\n",
    "from matplotlib import pyplot as plt\n",
    "import numpy as np"
   ]
  },
  {
   "cell_type": "code",
   "execution_count": null,
   "metadata": {},
   "outputs": [],
   "source": [
    "from IPython.html.widgets import interact"
   ]
  },
  {
   "cell_type": "code",
   "execution_count": null,
   "metadata": {},
   "outputs": [],
   "source": [
    "#def pinta_funcion(f):\n",
    " #   x=np.linspace(0,2*np.pi,500)\n",
    " #   y=x*np.sin(f*x)\n",
    " #   plt.plot(x,y,color='red')"
   ]
  },
  {
   "cell_type": "code",
   "execution_count": null,
   "metadata": {},
   "outputs": [],
   "source": [
    "#interact(pinta_funcion,f=(2*np.pi,2*np.pi*5))"
   ]
  },
  {
   "cell_type": "code",
   "execution_count": null,
   "metadata": {},
   "outputs": [],
   "source": []
  },
  {
   "cell_type": "code",
   "execution_count": null,
   "metadata": {},
   "outputs": [],
   "source": [
    "from sympy import * \n",
    "from sympy.plotting import *\n",
    "init_printing()"
   ]
  },
  {
   "cell_type": "code",
   "execution_count": null,
   "metadata": {},
   "outputs": [],
   "source": [
    "x=symbols(\"x\")\n",
    "y=symbols(\"y\")\n",
    "z=symbols(\"z\")\n",
    "w=symbols(\"w\")"
   ]
  },
  {
   "cell_type": "code",
   "execution_count": null,
   "metadata": {},
   "outputs": [],
   "source": [
    "#def pinta_implicito(c):\n",
    "#    plot_implicit(x-y>=c, line_color = 'r')"
   ]
  },
  {
   "cell_type": "code",
   "execution_count": null,
   "metadata": {},
   "outputs": [],
   "source": [
    "#interact(pinta_implicito,c=(-4,4))"
   ]
  },
  {
   "cell_type": "markdown",
   "metadata": {},
   "source": [
    "Las funciones de una variable nos han permitido modelar muchas situaciones, al introducir más variables ampliaremos un poco el espectro de las aplicaciones de las matemáticas en la administración, para ello estudiaremos las funciones, sus dominios, las derivadas de funciones de varias variables, como también sus aplicaciones.\n",
    "\n",
    "# Funciones de dos variables\n",
    "\n",
    "Las funciones no siempre deben depender de una sola variable, en muchos casos las funciones dependen de más de una variable, por lo que se hace indispensable trabajar con funciones de éste tipo. Para tener un entendimiento de éste tipo de funciones trabajaremos con las más fáciles de comprender y trabajar que son las funciones de dos variables.\n",
    "\n",
    "## Dominio\n",
    "\n",
    "Al igual que en las funciones de una variable, el dominio es el conjunto de valores (en este caso parejas $(x,y)$) por los cuales se pueden remplazar las variables.\n",
    "\n",
    "Por ejemplo, el dominio de la función $$f(x)=\\sqrt{x}$$ son todos los valores no negativos de $x$, es decir $x\\geq0$ o si se representa en un intervalo $[0,\\infty).$\n",
    "\n",
    "Mientras que si $$f(x,y)=\\sqrt{x-y}$$ si dominio serán **todas** las posibles combinaciones que hagan que la resta $x-y$ sea no negativam en otras palabras $x\\geq y$. Dicha desigualdad ya no se puede representar en un intervalo, se debe representar en un plano cartesiano\n"
   ]
  },
  {
   "cell_type": "code",
   "execution_count": null,
   "metadata": {},
   "outputs": [],
   "source": [
    "def pinta_region(c):\n",
    "    plot_implicit(x-y>=c, line_color = 'r')"
   ]
  },
  {
   "cell_type": "code",
   "execution_count": 9,
   "metadata": {
    "scrolled": true
   },
   "outputs": [
    {
     "data": {
      "application/vnd.jupyter.widget-view+json": {
       "model_id": "d865d5052d654e379c655c071a4e0121",
       "version_major": 2,
       "version_minor": 0
      },
      "text/plain": [
       "interactive(children=(IntSlider(value=0, description='c', max=4, min=-4), Output()), _dom_classes=('widget-int…"
      ]
     },
     "metadata": {},
     "output_type": "display_data"
    },
    {
     "data": {
      "text/plain": [
       "<function __main__.pinta_region(c)>"
      ]
     },
     "execution_count": 9,
     "metadata": {},
     "output_type": "execute_result"
    }
   ],
   "source": [
    "interact(pinta_region,c=(-4,4))"
   ]
  },
  {
   "cell_type": "markdown",
   "metadata": {},
   "source": [
    "### Ejemplo:\n",
    "Grafique el dominio de la función $$g(x,y)=\\sqrt{x^2+y^2-1}$$\n",
    "#### Solución:\n",
    "Para poder calcular la raíz cuadrada el argumento debe ser un número no negativo, es decir, se necesita que\n",
    "$$x^2+y^2-1\\geq0$$\n",
    "por lo tanto la gráfica de ésta desigualdad es:"
   ]
  },
  {
   "cell_type": "code",
   "execution_count": 10,
   "metadata": {
    "scrolled": true
   },
   "outputs": [],
   "source": [
    "def pinta_area(c):\n",
    "    try:\n",
    "        plot_implicit(x**2+y**2>=float(c))\n",
    "    except:\n",
    "        print('¡Ingresa un valor válido!')"
   ]
  },
  {
   "cell_type": "code",
   "execution_count": 11,
   "metadata": {},
   "outputs": [
    {
     "data": {
      "application/vnd.jupyter.widget-view+json": {
       "model_id": "bf41ff82595b48e29583edc8d067545d",
       "version_major": 2,
       "version_minor": 0
      },
      "text/plain": [
       "interactive(children=(Text(value='2', description='c'), Output()), _dom_classes=('widget-interact',))"
      ]
     },
     "metadata": {},
     "output_type": "display_data"
    },
    {
     "data": {
      "text/plain": [
       "<function __main__.pinta_area(c)>"
      ]
     },
     "execution_count": 11,
     "metadata": {},
     "output_type": "execute_result"
    }
   ],
   "source": [
    "interact(pinta_area,c='2')\n"
   ]
  },
  {
   "cell_type": "markdown",
   "metadata": {
    "solution2": "shown",
    "solution2_first": true
   },
   "source": [
    "### Ejercicios\n",
    "Halle el dominio de las siguientes funciones:\n",
    "\n",
    "1. $f(x,y)=\\frac{x}{x+y}$.\n",
    "2. $f(x,y)=\\frac{1}{ln(2x+3y)}$\n",
    "3. $f(x,y)=\\frac{2x}{\\sqrt{2x-y}}$"
   ]
  },
  {
   "cell_type": "code",
   "execution_count": null,
   "metadata": {
    "scrolled": false,
    "solution2": "shown"
   },
   "outputs": [],
   "source": [
    "def pinta_recta(c):\n",
    "    x=np.linspace(-10,10,50)\n",
    "    y=-x+float(c)\n",
    "    plt.plot(x,y)\n",
    "    plt.ylim(-10,10)\n",
    "    plt.xlim(-10,10)"
   ]
  },
  {
   "cell_type": "code",
   "execution_count": null,
   "metadata": {},
   "outputs": [],
   "source": [
    "interact(pinta_recta,c=(-4,4))\n",
    "#pinta_recta(4)"
   ]
  },
  {
   "cell_type": "code",
   "execution_count": null,
   "metadata": {
    "scrolled": false,
    "solution2": "shown"
   },
   "outputs": [],
   "source": [
    "p1=plot_implicit(2*x+3*y>0, line_color = 'c',show=False)\n",
    "p2=plot(1/3-2/3*x, show=False)\n",
    "p1.append(p2[0])\n",
    "p1.show()"
   ]
  },
  {
   "cell_type": "code",
   "execution_count": null,
   "metadata": {
    "scrolled": true,
    "solution2": "shown"
   },
   "outputs": [],
   "source": [
    "def pinta_dominio(c):\n",
    "    plot_implicit(float(c)*x-y>0, line_color = 'g')    "
   ]
  },
  {
   "cell_type": "code",
   "execution_count": null,
   "metadata": {},
   "outputs": [],
   "source": [
    "interact(pinta_dominio,c=(-5,5,0.1))"
   ]
  },
  {
   "cell_type": "markdown",
   "metadata": {},
   "source": [
    "## ¿Cómo se evalúan funciones de dos variables?\n",
    "Dado que el dominio de dichas funciones son parejas ordenadas $(x,y)$ se requiere dar el valor de ambas variables para poder determinar el valor de la función.\n",
    "### Ejemplo\n",
    "Si $$g(x,y)=\\sqrt{x^2+y^2-1}$$\n",
    "halle el valor de $g(-3,4)$.\n",
    "#### Solución:\n",
    "$$g(-3,4)=\\sqrt{(-3)^2+(4)^2-1}=\\sqrt{9+16-1}=\\sqrt{24}.$$\n",
    "\n",
    "### Ejercicios\n",
    "1. Dada la función $f(x,y)=3x^2-5xy+y^3$ halle el valor de: $f(1,2)$, $f(-1,-5)$ y $f(3,-2)$.\n",
    "2. Si $g(x,y)=e^{2x^2y-5x+2y}$ evaluar $g$ en los siguientes puntos: $(0,0)$ y $(-1,1)$.\n",
    "3. Considere $h(x,y)=ln(x^2+4x+y^2-1)$ calcule: $h(1,2)$, $h(0,-0.5)$ y $h(1/2,1/2)$.\n",
    "\n",
    "## ¿Cómo se representan graficamente estas funciones?\n",
    "Ya que el dominio es un subconjunto del plano cartesiano, para poder representar una función $f(x,y)$ se necesitará de un tercer eje coordenado, es decir, se deben representar tripletas del tipo $(x,y,f(x,y))$, donde las dos primeras entradas representan los elementos del dominio y la tercera entrada es la imagen de la pareja por medio de la función.\n",
    "\n",
    "### Ejemplo\n",
    "Si deseamos visualizar los puntos $(-3,4)$, $(-1,3)$ y sus imágenes mediante la función $g(x,y)=\\sqrt{x^2+y^2-1}$\n",
    "#### Solución:"
   ]
  },
  {
   "cell_type": "code",
   "execution_count": null,
   "metadata": {},
   "outputs": [],
   "source": [
    "plot3d((x**2+y**2-1)**(1/2), (x, -5, 5), (y, -5, 5))"
   ]
  },
  {
   "cell_type": "markdown",
   "metadata": {},
   "source": [
    "En Geogebra la visualización es mucho más amigable\n",
    "\n",
    "https://www.geogebra.org/m/byaueutg\n",
    "\n",
    "Para que deasrrolle los siguientes ejercicios puede hacer uso de la herramienta que se encuentra en el siguiente link:\n",
    "\n",
    "https://www.geogebra.org/3d?lang=es\n",
    "\n",
    "### Ejercicios\n",
    "1. Grafique las funciones:\n",
    "\n",
    "    a. $f(x,y)=xy$. Ubique los puntos $(1,2,f(1,2))$ y $(3,4,f(3,4))$ \n",
    "    \n",
    "    b. $g(x,y)=x^2+y^2$. Ubique los puntos $(0,0,g(0,0))$ y $(3,4,g(3,4))$ \n",
    "    \n",
    "    c. $h(x,y)=x+y$. Ubique los puntos $(1,2,h(1,2))$ y $(3,-4,h(3,-4))$ \n",
    "    \n"
   ]
  },
  {
   "cell_type": "markdown",
   "metadata": {},
   "source": [
    "## Aplicaciones\n",
    "\n",
    "En la administración son muy importantes las funciones de más de una variable ya que, por ejemplo, los costos de una empresa que produce los artículos A y B viene dada por\n",
    "\n",
    "$$C(x,y)=5x^2+20x+20y+y^2+1000$$\n",
    "siendo $x$ la cantidad en miles de artículos elaborados del producto A, mientras que $y$ representa la cantidad en miles de artículos producidos de B.\n",
    "\n",
    "Determine los costos de producir 1500 unidades de A y 2000 unidades de B."
   ]
  },
  {
   "cell_type": "code",
   "execution_count": null,
   "metadata": {},
   "outputs": [],
   "source": [
    "C=5*x**2+20*x+20*y+y**2+1000"
   ]
  },
  {
   "cell_type": "code",
   "execution_count": null,
   "metadata": {},
   "outputs": [],
   "source": [
    "C.subs([(x,1.5),(y,2)])"
   ]
  },
  {
   "cell_type": "markdown",
   "metadata": {},
   "source": [
    "### Ejercicios (*extraídos de Arya*)\n",
    "\n",
    "1.  Se lanza un nuevo producto al mercado. El volumen de ventas $x$ se incrementa como una función del tiempo $t$ y depende también de la cantidad $A$ gastada en la campaña publicitaria. Si, con $t$ medido en meses y A en dólares,\n",
    "$$x=200(5-e^{-0.002A})(1-e^{-t})$$\n",
    "Determine el volumen de ventas si ha transcurrido 1 mes y la inversión fue de 400 dólares.\n",
    "\n",
    "2. La función de producción de cierta empresa está dada por\n",
    "$$P=5L + 2L^2+ 3LK + 8K + 3K^2$$\n",
    "en donde $L$ es el insumo mano de obra medido en miles de horas-hombre por semana, $K$ es el monto de capital invertido medido en miles de dólares por semana y $P$ es la producción semanal en miles de artículos. Determine la productividad cuando $L=5$ y $K=12$.\n",
    "\n",
    "3. Si el costo de producción de una empresa que fabrica dos artículos viene dada por\n",
    "$$C(x, y) = 1500 -7.5x- 15y-0.3xy+0.3x^2 + 0.2y^2$$"
   ]
  },
  {
   "cell_type": "markdown",
   "metadata": {},
   "source": [
    "# Funciones de más de dos variables\n",
    "\n",
    "Para las funciones de tres variables es mucho más complicado el estudio de los dominios ya que serán figuras de tres dimensiones, y para las que tengan más variables será imposible representar su dominio, por tal motivo no nos centraremos en los dominios, estudiaremos únicamente la forma de evaluarlas y algo de sus aplicaciones.\n",
    "\n",
    "## ¿Cómo se evalúan?\n",
    "Básicamente debemos seguir la idea de dos variables, se remplaza cada una de las variables por el valor asignado y se opera, siguiendo la jerarquía de las operaciones, por ejemplo, si deseamos evaluar la siguiente función\n",
    "$$f(x,y,z)=3x+y^3-5xz$$\n",
    "en $(1,-2,0)$ lo podemos escribir\n",
    "$$f(1,-2,0)=3(1)+(-2)^3-5(1)(0)=3-8+8=-5$$\n"
   ]
  },
  {
   "cell_type": "code",
   "execution_count": null,
   "metadata": {},
   "outputs": [],
   "source": [
    "f=3*x+y**3-5*x*z"
   ]
  },
  {
   "cell_type": "code",
   "execution_count": null,
   "metadata": {},
   "outputs": [],
   "source": [
    "f.subs([(x,1),(y,-2),(z,0)])"
   ]
  },
  {
   "cell_type": "markdown",
   "metadata": {},
   "source": [
    "### Ejemplo\n",
    "Supongamos que los costos, en miles de dólares,  de cierta fábrica vienen dados por\n",
    "$$C(x,y,z,w)=2x+7y+5z+6w+150$$\n",
    "donde $x,y,z$ y $w$ son las cantidades en miles de unidades de los productos $X,\\ Y,\\ Z$ y $W$ respectivamente. Determine los costos totales de producir 1500 unidades del producto $X$, 2000 del $Y$, 100 del $Z$ y 3750 del $W$.\n",
    "\n",
    "Solución"
   ]
  },
  {
   "cell_type": "code",
   "execution_count": null,
   "metadata": {},
   "outputs": [],
   "source": [
    "C=2*x+7*y+5*z+6*w+150"
   ]
  },
  {
   "cell_type": "code",
   "execution_count": null,
   "metadata": {},
   "outputs": [],
   "source": [
    "C.subs([(x,1.5),(y,2),(z,0.1),(w,3.75)])"
   ]
  },
  {
   "cell_type": "markdown",
   "metadata": {},
   "source": [
    "Los costos totales de la fábrica ascienden a los 190.000USD."
   ]
  },
  {
   "cell_type": "code",
   "execution_count": null,
   "metadata": {},
   "outputs": [],
   "source": []
  }
 ],
 "metadata": {
  "kernelspec": {
   "display_name": "Python 3",
   "language": "python",
   "name": "python3"
  },
  "language_info": {
   "codemirror_mode": {
    "name": "ipython",
    "version": 3
   },
   "file_extension": ".py",
   "mimetype": "text/x-python",
   "name": "python",
   "nbconvert_exporter": "python",
   "pygments_lexer": "ipython3",
   "version": "3.7.8"
  },
  "latex_envs": {
   "LaTeX_envs_menu_present": true,
   "autoclose": false,
   "autocomplete": true,
   "bibliofile": "biblio.bib",
   "cite_by": "apalike",
   "current_citInitial": 1,
   "eqLabelWithNumbers": true,
   "eqNumInitial": 1,
   "hotkeys": {
    "equation": "Ctrl-E",
    "itemize": "Ctrl-I"
   },
   "labels_anchors": false,
   "latex_user_defs": false,
   "report_style_numbering": false,
   "user_envs_cfg": false
  },
  "toc": {
   "base_numbering": 1,
   "nav_menu": {},
   "number_sections": true,
   "sideBar": true,
   "skip_h1_title": true,
   "title_cell": "Table of Contents",
   "title_sidebar": "Contents",
   "toc_cell": false,
   "toc_position": {
    "height": "calc(100% - 180px)",
    "left": "10px",
    "top": "150px",
    "width": "355.556px"
   },
   "toc_section_display": true,
   "toc_window_display": false
  }
 },
 "nbformat": 4,
 "nbformat_minor": 2
}
